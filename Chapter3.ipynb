{
 "cells": [
  {
   "cell_type": "markdown",
   "metadata": {},
   "source": [
    "# Chapter 3\n",
    "# Solving Problems with Dynamic Programming\n"
   ]
  },
  {
   "cell_type": "code",
   "execution_count": 10,
   "metadata": {},
   "outputs": [],
   "source": [
    "import gym\n",
    "import numpy as np"
   ]
  },
  {
   "cell_type": "markdown",
   "metadata": {},
   "source": [
    "### Policy iteration applied to FrozenLake"
   ]
  },
  {
   "cell_type": "code",
   "execution_count": 4,
   "metadata": {},
   "outputs": [],
   "source": [
    "env = gym.make('FrozenLake-v0')\n",
    "env = env.unwrapped"
   ]
  },
  {
   "cell_type": "code",
   "execution_count": 7,
   "metadata": {},
   "outputs": [
    {
     "name": "stdout",
     "output_type": "stream",
     "text": [
      "Discrete(4)\n",
      "Discrete(16)\n"
     ]
    }
   ],
   "source": [
    "print(env.action_space)\n",
    "print(env.observation_space)"
   ]
  },
  {
   "cell_type": "code",
   "execution_count": 11,
   "metadata": {},
   "outputs": [
    {
     "data": {
      "text/plain": [
       "16"
      ]
     },
     "execution_count": 11,
     "metadata": {},
     "output_type": "execute_result"
    }
   ],
   "source": [
    "nA = env.action_space.n # action space dimension\n",
    "nS = env.observation_space.n # state space dimension\n",
    "nS"
   ]
  },
  {
   "cell_type": "code",
   "execution_count": 82,
   "metadata": {},
   "outputs": [],
   "source": [
    "V = np.zeros(nS) # value function\n",
    "policy = np.zeros(nS)"
   ]
  },
  {
   "cell_type": "markdown",
   "metadata": {},
   "source": [
    "First we must define a function to evaluate the policy and a function to improve the policy "
   ]
  },
  {
   "cell_type": "code",
   "execution_count": 83,
   "metadata": {},
   "outputs": [],
   "source": [
    "def eval_state_pi(V,s,a,gamma=0.99): #function that evaluate the state s under policy pi\n",
    "    \n",
    "    return sum(prob*(rew+gamma*V[next_s]) for prob, next_s, rew, _ in env.P[s][a])\n",
    "\n",
    "def policy_evaluation(V, policy, eps=0.0001): #evaluates all the states under the policy pi, until surpasses the threshold eps\n",
    "    \n",
    "    while True:\n",
    "        \n",
    "        delta = 0\n",
    "        for state in range(nS):\n",
    "            \n",
    "            old_Vs = V[state]\n",
    "            V[state] = eval_state_pi(V, state, policy[state])\n",
    "            delta = max(delta, np.abs(old_Vs-V[state]))\n",
    "            \n",
    "        if delta < eps:\n",
    "            break\n",
    "        "
   ]
  },
  {
   "cell_type": "code",
   "execution_count": 90,
   "metadata": {},
   "outputs": [],
   "source": [
    "def policy_improvement(V, policy): # for each state, selects the action with the highest payoff\n",
    "    \n",
    "    policy_stable = True\n",
    "    \n",
    "    for state in range(nS):\n",
    "    \n",
    "        old_a = policy[state]\n",
    "        policy[state] = np.argmax([eval_state_pi(V, state, action) for action in range(nA)])\n",
    "        \n",
    "        if old_a != policy[state]:\n",
    "            \n",
    "            policy_stable = False\n",
    "        \n",
    "    return policy_stable"
   ]
  },
  {
   "cell_type": "code",
   "execution_count": 91,
   "metadata": {},
   "outputs": [],
   "source": [
    "# Apply the evaluation and improvement of the agent's policy\n",
    "policy_stable = False\n",
    "it = 0\n",
    "while not policy_stable:\n",
    "    \n",
    "    policy_evaluation(V,policy)\n",
    "    policy_stable = policy_improvement(V,policy)\n",
    "    it+=1"
   ]
  },
  {
   "cell_type": "code",
   "execution_count": 106,
   "metadata": {},
   "outputs": [
    {
     "data": {
      "text/plain": [
       "array([[0., 3., 3., 3.],\n",
       "       [0., 0., 0., 0.],\n",
       "       [3., 1., 0., 0.],\n",
       "       [0., 2., 1., 0.]])"
      ]
     },
     "execution_count": 106,
     "metadata": {},
     "output_type": "execute_result"
    }
   ],
   "source": [
    "policy.reshape(4,4)"
   ]
  },
  {
   "cell_type": "code",
   "execution_count": 109,
   "metadata": {},
   "outputs": [
    {
     "name": "stdout",
     "output_type": "stream",
     "text": [
      "[[0.54 0.5  0.47 0.46]\n",
      " [0.56 0.   0.36 0.  ]\n",
      " [0.59 0.64 0.61 0.  ]\n",
      " [0.   0.74 0.86 0.  ]]\n"
     ]
    }
   ],
   "source": [
    "print(np.round(V.reshape(4,4),2))"
   ]
  },
  {
   "cell_type": "code",
   "execution_count": 102,
   "metadata": {},
   "outputs": [],
   "source": [
    "#After finding the optimal policy through planning, the agent can finally interact with the enviroment\n",
    "\n",
    "def run_episodes(env, V, policy, num_games=100):\n",
    "    \n",
    "    total_rew = 0\n",
    "    state = env.reset() # returns the initial state. In this game the initial state is always zero\n",
    "    \n",
    "    for _ in range(num_games):\n",
    "        \n",
    "        done = False\n",
    "        \n",
    "        while not done:\n",
    "            \n",
    "            next_state, reward, done, _ = env.step(policy[state])\n",
    "            state = next_state\n",
    "            total_rew += reward\n",
    "            if done:\n",
    "                state =env.reset()\n",
    "        \n",
    "    print('Won %i of %i games!'%(total_rew,num_games))"
   ]
  },
  {
   "cell_type": "code",
   "execution_count": 103,
   "metadata": {},
   "outputs": [
    {
     "name": "stdout",
     "output_type": "stream",
     "text": [
      "Won 83 of 100 games!\n"
     ]
    }
   ],
   "source": [
    "run_episodes(env,V,policy)"
   ]
  },
  {
   "cell_type": "markdown",
   "metadata": {},
   "source": [
    "### Value iteration applied to FrozenLake"
   ]
  },
  {
   "cell_type": "code",
   "execution_count": 137,
   "metadata": {},
   "outputs": [],
   "source": [
    "# A different way to find the best policy. In this case we evaluate the expected value for each state,\n",
    "# After that we select the action with the highest payoff\n",
    "def value_iteration(eps=0.001):\n",
    "    \n",
    "    V=np.zeros(nS)\n",
    "    it=0\n",
    "    while True:\n",
    "        \n",
    "        delta=0\n",
    "        for state in range(nS):\n",
    "            \n",
    "            old_V = V[state]\n",
    "            V[state] = np.max([eval_state_pi(V,state,action) for action in range(nA)])\n",
    "            delta = max(delta, np.abs(old_V - V[state]))\n",
    "            \n",
    "        if delta < eps:\n",
    "            \n",
    "            print('Iter', it, ' delta:', np.round(delta,5))\n",
    "            return V\n",
    "            \n",
    "        it += 1\n",
    "            \n",
    "    "
   ]
  },
  {
   "cell_type": "code",
   "execution_count": 138,
   "metadata": {},
   "outputs": [],
   "source": [
    "def run_episodes(env, V, num_games=100):\n",
    "    \n",
    "    total_rew = 0\n",
    "    state = env.reset()\n",
    "    \n",
    "    for _ in range(num_games):\n",
    "        \n",
    "        done = False\n",
    "        \n",
    "        while not done:\n",
    "            \n",
    "            action = np.argmax([eval_state_pi(V,state,a) for a in range(nA)])\n",
    "            next_state, reward, done, _ = env.step(action)\n",
    "            state = next_state\n",
    "            total_rew += reward\n",
    "            \n",
    "            if done:\n",
    "                state = env.reset()\n",
    "                \n",
    "    print('Won %i of %i games!'%(total_rew, num_games))"
   ]
  },
  {
   "cell_type": "code",
   "execution_count": 141,
   "metadata": {},
   "outputs": [
    {
     "name": "stdout",
     "output_type": "stream",
     "text": [
      "Iter 83  delta: 0.00096\n",
      "Won 80 of 100 games!\n"
     ]
    }
   ],
   "source": [
    "V = value_iteration()\n",
    "run_episodes(env,V)"
   ]
  },
  {
   "cell_type": "code",
   "execution_count": 143,
   "metadata": {},
   "outputs": [
    {
     "name": "stdout",
     "output_type": "stream",
     "text": [
      "[[0.53 0.48 0.45 0.44]\n",
      " [0.55 0.   0.35 0.  ]\n",
      " [0.58 0.64 0.61 0.  ]\n",
      " [0.   0.74 0.86 0.  ]]\n"
     ]
    }
   ],
   "source": [
    "print(np.round(V.reshape(4,4),2))\n"
   ]
  },
  {
   "cell_type": "code",
   "execution_count": null,
   "metadata": {},
   "outputs": [],
   "source": []
  },
  {
   "cell_type": "code",
   "execution_count": null,
   "metadata": {},
   "outputs": [],
   "source": []
  }
 ],
 "metadata": {
  "kernelspec": {
   "display_name": "Python (spinningup)",
   "language": "python",
   "name": "spinningup"
  },
  "language_info": {
   "codemirror_mode": {
    "name": "ipython",
    "version": 3
   },
   "file_extension": ".py",
   "mimetype": "text/x-python",
   "name": "python",
   "nbconvert_exporter": "python",
   "pygments_lexer": "ipython3",
   "version": "3.6.12"
  }
 },
 "nbformat": 4,
 "nbformat_minor": 4
}
