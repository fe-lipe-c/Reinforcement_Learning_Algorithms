{
 "cells": [
  {
   "cell_type": "code",
   "execution_count": 11,
   "metadata": {},
   "outputs": [],
   "source": [
    "import gym\n",
    "\n",
    "import tensorflow as tf\n",
    "from tensorflow.keras.layers import Dense\n",
    "from tensorflow.keras import Model\n",
    "\n",
    "import numpy as np"
   ]
  },
  {
   "cell_type": "code",
   "execution_count": 12,
   "metadata": {},
   "outputs": [],
   "source": [
    "def discounted_rewards(rewards, gamma):\n",
    "    \n",
    "    rtg = np.zeros_like(rewards , dtype=np.float32)\n",
    "    rtg[-1] = rewards[-1]\n",
    "    for i in reversed(range(len(rewards)-1)):\n",
    "        \n",
    "        rtg[i] = rewards[i] + gamma * rtg[i+1]\n",
    "        \n",
    "    return rtg"
   ]
  },
  {
   "cell_type": "code",
   "execution_count": 13,
   "metadata": {},
   "outputs": [],
   "source": [
    "class Policy(Model):\n",
    "    \n",
    "    def __init__(self, hidden_layers, hidden_size, output_size, activation, output_activation):\n",
    "        \n",
    "        super(policy, self).__init__()\n",
    "        self.hidden_layers = [Dense(hidden_size[i], activation=activation) for i in range(hidden_layers)]\n",
    "        self.output_layer = Dense(output_size, activation=output_activation)\n",
    "        \n",
    "    def call(self, state):\n",
    "        \n",
    "        x = state\n",
    "        \n",
    "        for layer in self.hidden_layers:\n",
    "            \n",
    "            x = layer(x)\n",
    "        \n",
    "        return self. output_layer(x)"
   ]
  },
  {
   "cell_type": "code",
   "execution_count": 21,
   "metadata": {},
   "outputs": [],
   "source": [
    "class Buffer():\n",
    "    \n",
    "    def __init__(self, gamma):\n",
    "        \n",
    "        self.gamma = gamma\n",
    "        self.obs = []\n",
    "        self.actions = []\n",
    "        self.returns = []\n",
    "    \n",
    "    def store(self, temp_traj):\n",
    "        \n",
    "        if temp_traj > 0:\n",
    "            self.obs.extend(temp_traj[:,0])\n",
    "            ret = discounted_rewards(temp_traj[:,1], self.gamma)\n",
    "            self.returns.extend(ret)\n",
    "            self.actions.extend(temp_traj[:,2])\n",
    "        \n",
    "    def get_batch(self):\n",
    "        \n",
    "        return self.obs, self.actions, self.returns\n",
    "    \n",
    "    def __len__(self):\n",
    "        \n",
    "        assert(len(self.obs) == len(self.actions) == len(self.returns))\n",
    "        return len(self.obs)"
   ]
  },
  {
   "cell_type": "code",
   "execution_count": null,
   "metadata": {},
   "outputs": [],
   "source": [
    "def REINFORCE(env_name, hidden_layers, hidden_size, output_size, activation, output_activation, \n",
    "              alpha, num_epochs, gamma, steps_per_epoch):\n",
    "    \n",
    "    env = gym.make(env_name)\n",
    "    obs_dim = env.observation_space.shape\n",
    "    act_dim = env.action_space.n\n",
    "    policy = Policy(hidden_layers, hidden_size, act_dim, activation, output_activation)\n",
    "    \n",
    "    obs = env.reset()\n",
    "    _ = policy.predict(obs)\n",
    "    \n",
    "    policy.compile(optimizer = tf.keras.optimizers.Adam(alpha))\n",
    "    \n",
    "    step_count = 0\n",
    "    train_rewards = []\n",
    "    train_ep_len = []\n",
    "    \n",
    "    for epoch in range(num_epochs):\n",
    "        \n",
    "        obs = env.reset()"
   ]
  },
  {
   "cell_type": "code",
   "execution_count": null,
   "metadata": {},
   "outputs": [],
   "source": []
  },
  {
   "cell_type": "code",
   "execution_count": null,
   "metadata": {},
   "outputs": [],
   "source": []
  }
 ],
 "metadata": {
  "kernelspec": {
   "display_name": "Python 3",
   "language": "python",
   "name": "python3"
  },
  "language_info": {
   "codemirror_mode": {
    "name": "ipython",
    "version": 3
   },
   "file_extension": ".py",
   "mimetype": "text/x-python",
   "name": "python",
   "nbconvert_exporter": "python",
   "pygments_lexer": "ipython3",
   "version": "3.8.5"
  }
 },
 "nbformat": 4,
 "nbformat_minor": 4
}
