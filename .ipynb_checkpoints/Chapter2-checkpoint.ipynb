{
 "cells": [
  {
   "cell_type": "markdown",
   "metadata": {},
   "source": [
    "# Chapter 2\n",
    "## Implementing RL Cycle and OpenAI Gym\n"
   ]
  },
  {
   "cell_type": "code",
   "execution_count": 1,
   "metadata": {},
   "outputs": [],
   "source": [
    "import gym\n",
    "import tensorflow as tf\n",
    "from tensorflow.keras.layers import Dense, Flatten\n",
    "from tensorflow.keras import Model\n",
    "\n",
    "import numpy as np\n",
    "from datetime import datetime\n",
    "import pandas as pd\n",
    "\n",
    "import altair as alt\n",
    "import matplotlib.pyplot as plt\n",
    "from IPython import display\n",
    "%matplotlib inline"
   ]
  },
  {
   "cell_type": "markdown",
   "metadata": {},
   "source": [
    "## Basic Cartpole enviroment with random actions"
   ]
  },
  {
   "cell_type": "code",
   "execution_count": 6,
   "metadata": {},
   "outputs": [
    {
     "name": "stdout",
     "output_type": "stream",
     "text": [
      "Total number of enviroments:  859 \n",
      "\n",
      "Cartpole enviroments:  ['CartPole-v0', 'CartPole-v1']\n"
     ]
    }
   ],
   "source": [
    "all_envs = gym.envs.registry.all()\n",
    "env_ids = [env_spec.id for env_spec in all_envs]\n",
    "print('Total number of enviroments: ',len(env_ids),'\\n')\n",
    "print('Cartpole enviroments: ',sorted([word for word in env_ids if word.startswith('Cart')]))"
   ]
  },
  {
   "cell_type": "code",
   "execution_count": null,
   "metadata": {},
   "outputs": [],
   "source": []
  },
  {
   "cell_type": "code",
   "execution_count": 7,
   "metadata": {},
   "outputs": [
    {
     "data": {
      "text/plain": [
       "array([-0.03498466, -0.0494015 , -0.00355263,  0.00519004])"
      ]
     },
     "execution_count": 7,
     "metadata": {},
     "output_type": "execute_result"
    }
   ],
   "source": [
    "# create the enviroment\n",
    "env = gym.make(\"CartPole-v1\")\n",
    "# reset the enviroment before starting\n",
    "env.reset() #When the enviroment is reseted, it returns the initial observation (state)"
   ]
  },
  {
   "cell_type": "code",
   "execution_count": 8,
   "metadata": {},
   "outputs": [
    {
     "name": "stdout",
     "output_type": "stream",
     "text": [
      "\n",
      "The number of states is  4  while number of total actions are  Discrete(2) \n",
      "\n"
     ]
    }
   ],
   "source": [
    "print('\\nThe number of states is ', env.observation_space.shape[0], ' while number of total actions are ',env.action_space,'\\n')"
   ]
  },
  {
   "cell_type": "markdown",
   "metadata": {},
   "source": [
    "Now we just sample random actions from the agent."
   ]
  },
  {
   "cell_type": "code",
   "execution_count": 9,
   "metadata": {},
   "outputs": [
    {
     "data": {
      "image/png": "[encoded data removed]",
      "text/plain": [
       "<Figure size 432x288 with 1 Axes>"
      ]
     },
     "metadata": {
      "needs_background": "light"
     },
     "output_type": "display_data"
    }
   ],
   "source": [
    "for step in range(30):\n",
    "    \n",
    "    plt.imshow(env.render(mode='rgb_array'))\n",
    "    display.display(plt.gcf())\n",
    "    display.clear_output(wait=True)\n",
    "    env.step(env.action_space.sample())\n",
    "#    env.render()\n",
    "    \n",
    "env.close()"
   ]
  },
  {
   "cell_type": "code",
   "execution_count": 10,
   "metadata": {},
   "outputs": [
    {
     "name": "stdout",
     "output_type": "stream",
     "text": [
      "In each step, the eviroment produces the following output:\n",
      "\n",
      "State:  [-0.04769907  0.83736158  0.33110779  0.52804637] \n",
      "Reward:  0.0 \n",
      "Terminal State:  True \n",
      "Info {}\n"
     ]
    }
   ],
   "source": [
    "print('In each step, the eviroment produces the following output:\\n')\n",
    "print('State: ',env.step(env.action_space.sample())[0],'\\nReward: ',env.step(env.action_space.sample())[1],'\\nTerminal State: ',env.step(env.action_space.sample())[2],'\\nInfo',env.step(env.action_space.sample())[3])"
   ]
  },
  {
   "cell_type": "markdown",
   "metadata": {},
   "source": [
    "## Basic Cartpole enviroment with random actions nr2"
   ]
  },
  {
   "cell_type": "code",
   "execution_count": 11,
   "metadata": {},
   "outputs": [
    {
     "name": "stdout",
     "output_type": "stream",
     "text": [
      "Episode 0 finished, reward: 27\n",
      "Episode 1 finished, reward: 22\n",
      "Episode 2 finished, reward: 13\n",
      "Episode 3 finished, reward: 18\n",
      "Episode 4 finished, reward: 45\n",
      "Episode 5 finished, reward: 19\n",
      "Episode 6 finished, reward: 52\n",
      "Episode 7 finished, reward: 14\n",
      "Episode 8 finished, reward: 47\n",
      "Episode 9 finished, reward: 13\n"
     ]
    }
   ],
   "source": [
    "env = gym.make('CartPole-v1')\n",
    "env.reset()\n",
    "\n",
    "for period in range(10):\n",
    "    \n",
    "    done = False #Terminal state\n",
    "    game_rew = 0 #Reward\n",
    "    \n",
    "    while not done:\n",
    "        \n",
    "        action = env.action_space.sample() #random action\n",
    "        new_obs, rew, done, info = env.step(action) #interaction with the enviroment\n",
    "        game_rew += rew #total reward\n",
    "        \n",
    "        if done:\n",
    "            print('Episode %d finished, reward: %d' %(period,game_rew))\n",
    "            env.reset()"
   ]
  },
  {
   "cell_type": "code",
   "execution_count": null,
   "metadata": {},
   "outputs": [],
   "source": []
  },
  {
   "cell_type": "code",
   "execution_count": null,
   "metadata": {},
   "outputs": [],
   "source": []
  },
  {
   "cell_type": "code",
   "execution_count": null,
   "metadata": {},
   "outputs": [],
   "source": []
  },
  {
   "cell_type": "markdown",
   "metadata": {},
   "source": [
    "## Simple linear regression example\n",
    "\n",
    "This code is a combination of the regression example presented in the book and the [Tensorflow regression tutorial](https://www.tensorflow.org/tutorials/keras/regression?hl=pt_br)  "
   ]
  },
  {
   "cell_type": "code",
   "execution_count": 132,
   "metadata": {},
   "outputs": [],
   "source": [
    "np.random.seed(10)\n",
    "tf.random.set_seed(10)"
   ]
  },
  {
   "cell_type": "code",
   "execution_count": 14,
   "metadata": {},
   "outputs": [],
   "source": [
    "W, b = 0.5, 1.4 #parameters of the target function\n",
    "X = np.linspace(0,100,num=100)\n",
    "y = np.random.normal(loc = W * X + b, scale = 2.0, size = len(X))"
   ]
  },
  {
   "cell_type": "code",
   "execution_count": 15,
   "metadata": {},
   "outputs": [
    {
     "data": {
      "text/html": [
       "<div>\n",
       "<style scoped>\n",
       "    .dataframe tbody tr th:only-of-type {\n",
       "        vertical-align: middle;\n",
       "    }\n",
       "\n",
       "    .dataframe tbody tr th {\n",
       "        vertical-align: top;\n",
       "    }\n",
       "\n",
       "    .dataframe thead th {\n",
       "        text-align: right;\n",
       "    }\n",
       "</style>\n",
       "<table border=\"1\" class=\"dataframe\">\n",
       "  <thead>\n",
       "    <tr style=\"text-align: right;\">\n",
       "      <th></th>\n",
       "      <th>y</th>\n",
       "      <th>X</th>\n",
       "    </tr>\n",
       "  </thead>\n",
       "  <tbody>\n",
       "    <tr>\n",
       "      <th>0</th>\n",
       "      <td>4.063173</td>\n",
       "      <td>0.000000</td>\n",
       "    </tr>\n",
       "    <tr>\n",
       "      <th>1</th>\n",
       "      <td>3.335608</td>\n",
       "      <td>1.010101</td>\n",
       "    </tr>\n",
       "    <tr>\n",
       "      <th>2</th>\n",
       "      <td>-0.680700</td>\n",
       "      <td>2.020202</td>\n",
       "    </tr>\n",
       "    <tr>\n",
       "      <th>3</th>\n",
       "      <td>2.898384</td>\n",
       "      <td>3.030303</td>\n",
       "    </tr>\n",
       "    <tr>\n",
       "      <th>4</th>\n",
       "      <td>4.662874</td>\n",
       "      <td>4.040404</td>\n",
       "    </tr>\n",
       "  </tbody>\n",
       "</table>\n",
       "</div>"
      ],
      "text/plain": [
       "          y         X\n",
       "0  4.063173  0.000000\n",
       "1  3.335608  1.010101\n",
       "2 -0.680700  2.020202\n",
       "3  2.898384  3.030303\n",
       "4  4.662874  4.040404"
      ]
     },
     "execution_count": 15,
     "metadata": {},
     "output_type": "execute_result"
    }
   ],
   "source": [
    "dataset = pd.DataFrame()\n",
    "dataset['y'] = y\n",
    "dataset['X'] = X\n",
    "dataset.head()"
   ]
  },
  {
   "cell_type": "code",
   "execution_count": 79,
   "metadata": {},
   "outputs": [
    {
     "data": {
      "text/html": [
       "\n",
       "<div id=\"altair-viz-cd93ccfa587446dfb179dea69787b977\"></div>\n",
       "<script type=\"text/javascript\">\n",
       "  (function(spec, embedOpt){\n",
       "    let outputDiv = document.currentScript.previousElementSibling;\n",
       "    if (outputDiv.id !== \"altair-viz-cd93ccfa587446dfb179dea69787b977\") {\n",
       "      outputDiv = document.getElementById(\"altair-viz-cd93ccfa587446dfb179dea69787b977\");\n",
       "    }\n",
       "    const paths = {\n",
       "      \"vega\": \"https://cdn.jsdelivr.net/npm//vega@5?noext\",\n",
       "      \"vega-lib\": \"https://cdn.jsdelivr.net/npm//vega-lib?noext\",\n",
       "      \"vega-lite\": \"https://cdn.jsdelivr.net/npm//vega-lite@4.8.1?noext\",\n",
       "      \"vega-embed\": \"https://cdn.jsdelivr.net/npm//vega-embed@6?noext\",\n",
       "    };\n",
       "\n",
       "    function loadScript(lib) {\n",
       "      return new Promise(function(resolve, reject) {\n",
       "        var s = document.createElement('script');\n",
       "        s.src = paths[lib];\n",
       "        s.async = true;\n",
       "        s.onload = () => resolve(paths[lib]);\n",
       "        s.onerror = () => reject(`Error loading script: ${paths[lib]}`);\n",
       "        document.getElementsByTagName(\"head\")[0].appendChild(s);\n",
       "      });\n",
       "    }\n",
       "\n",
       "    function showError(err) {\n",
       "      outputDiv.innerHTML = `<div class=\"error\" style=\"color:red;\">${err}</div>`;\n",
       "      throw err;\n",
       "    }\n",
       "\n",
       "    function displayChart(vegaEmbed) {\n",
       "      vegaEmbed(outputDiv, spec, embedOpt)\n",
       "        .catch(err => showError(`Javascript Error: ${err.message}<br>This usually means there's a typo in your chart specification. See the javascript console for the full traceback.`));\n",
       "    }\n",
       "\n",
       "    if(typeof define === \"function\" && define.amd) {\n",
       "      requirejs.config({paths});\n",
       "      require([\"vega-embed\"], displayChart, err => showError(`Error loading script: ${err.message}`));\n",
       "    } else if (typeof vegaEmbed === \"function\") {\n",
       "      displayChart(vegaEmbed);\n",
       "    } else {\n",
       "      loadScript(\"vega\")\n",
       "        .then(() => loadScript(\"vega-lite\"))\n",
       "        .then(() => loadScript(\"vega-embed\"))\n",
       "        .catch(showError)\n",
       "        .then(() => displayChart(vegaEmbed));\n",
       "    }\n",
       "  })({\"config\": {\"view\": {\"continuousWidth\": 400, \"continuousHeight\": 300}}, \"data\": {\"name\": \"data-4e8e73eaa6b7cbe9d071030d929fd4b7\"}, \"mark\": {\"type\": \"circle\", \"size\": 60}, \"encoding\": {\"x\": {\"type\": \"quantitative\", \"field\": \"X\"}, \"y\": {\"type\": \"quantitative\", \"field\": \"y\"}}, \"$schema\": \"https://vega.github.io/schema/vega-lite/v4.8.1.json\", \"datasets\": {\"data-4e8e73eaa6b7cbe9d071030d929fd4b7\": [{\"y\": 4.063173008259036, \"X\": 0.0, \"predictions\": [[0.0]]}, {\"y\": 3.335608453847316, \"X\": 1.0101010101010102, \"predictions\": [[0.3838515281677246]]}, {\"y\": -0.6806995741215265, \"X\": 2.0202020202020203, \"predictions\": [[0.7677030563354492]]}, {\"y\": 2.8983838152944705, \"X\": 3.0303030303030303, \"predictions\": [[1.1515545845031738]]}, {\"y\": 4.662873967982981, \"X\": 4.040404040404041, \"predictions\": [[1.5354061126708984]]}, {\"y\": 2.485081403814732, \"X\": 5.050505050505051, \"predictions\": [[1.9192578792572021]]}, {\"y\": 4.961326201687269, \"X\": 6.0606060606060606, \"predictions\": [[2.3031091690063477]]}, {\"y\": 5.152450586783474, \"X\": 7.070707070707071, \"predictions\": [[2.6869611740112305]]}, {\"y\": 5.4489869022721065, \"X\": 8.080808080808081, \"predictions\": [[3.070812225341797]]}, {\"y\": 5.596254124268663, \"X\": 9.090909090909092, \"predictions\": [[3.4546637535095215]]}, {\"y\": 7.316557430412247, \"X\": 10.101010101010102, \"predictions\": [[3.8385157585144043]]}, {\"y\": 9.361630303179979, \"X\": 11.111111111111112, \"predictions\": [[4.222367286682129]]}, {\"y\": 5.530474719572535, \"X\": 12.121212121212121, \"predictions\": [[4.606218338012695]]}, {\"y\": 10.022204721621975, \"X\": 13.131313131313131, \"predictions\": [[4.990070343017578]]}, {\"y\": 8.92796733095639, \"X\": 14.141414141414142, \"predictions\": [[5.373922348022461]]}, {\"y\": 9.866032801418273, \"X\": 15.151515151515152, \"predictions\": [[5.757773399353027]]}, {\"y\": 7.207603657145993, \"X\": 16.161616161616163, \"predictions\": [[6.141624450683594]]}, {\"y\": 10.256132342755858, \"X\": 17.171717171717173, \"predictions\": [[6.52547550201416]]}, {\"y\": 13.459983094582256, \"X\": 18.181818181818183, \"predictions\": [[6.909327507019043]]}, {\"y\": 8.836349824389046, \"X\": 19.191919191919194, \"predictions\": [[7.293179988861084]]}, {\"y\": 7.545553539694288, \"X\": 20.202020202020204, \"predictions\": [[7.677031517028809]]}, {\"y\": 8.519316014262794, \"X\": 21.212121212121215, \"predictions\": [[8.060882568359375]]}, {\"y\": 13.043251439112215, \"X\": 22.222222222222225, \"predictions\": [[8.444734573364258]]}, {\"y\": 17.786096277583813, \"X\": 23.232323232323235, \"predictions\": [[8.82858657836914]]}, {\"y\": 15.768594628030968, \"X\": 24.242424242424242, \"predictions\": [[9.21243667602539]]}, {\"y\": 17.371507052878282, \"X\": 25.252525252525253, \"predictions\": [[9.596287727355957]]}, {\"y\": 14.729611562983619, \"X\": 26.262626262626263, \"predictions\": [[9.980140686035156]]}, {\"y\": 17.83235639055079, \"X\": 27.272727272727273, \"predictions\": [[10.363991737365723]]}, {\"y\": 14.99891816548258, \"X\": 28.282828282828284, \"predictions\": [[10.747844696044922]]}, {\"y\": 17.272873016183922, \"X\": 29.292929292929294, \"predictions\": [[11.131694793701172]]}, {\"y\": 16.016880774168012, \"X\": 30.303030303030305, \"predictions\": [[11.515546798706055]]}, {\"y\": 15.957947628354699, \"X\": 31.313131313131315, \"predictions\": [[11.899396896362305]]}, {\"y\": 17.827032753136063, \"X\": 32.323232323232325, \"predictions\": [[12.283248901367188]]}, {\"y\": 17.114382636811992, \"X\": 33.333333333333336, \"predictions\": [[12.66710090637207]]}, {\"y\": 21.188663333444126, \"X\": 34.343434343434346, \"predictions\": [[13.05095100402832]]}, {\"y\": 19.466794235233863, \"X\": 35.35353535353536, \"predictions\": [[13.43480396270752]]}, {\"y\": 20.382238158322878, \"X\": 36.36363636363637, \"predictions\": [[13.818655014038086]]}, {\"y\": 19.411604012697627, \"X\": 37.37373737373738, \"predictions\": [[14.202506065368652]]}, {\"y\": 23.104863719429503, \"X\": 38.38383838383839, \"predictions\": [[14.586359977722168]]}, {\"y\": 19.63303069296728, \"X\": 39.3939393939394, \"predictions\": [[14.970210075378418]]}, {\"y\": 22.92248330447283, \"X\": 40.40404040404041, \"predictions\": [[15.354063034057617]]}, {\"y\": 21.405326924190966, \"X\": 41.41414141414142, \"predictions\": [[15.737914085388184]]}, {\"y\": 20.73325449259611, \"X\": 42.42424242424243, \"predictions\": [[16.12176513671875]]}, {\"y\": 22.138497283402415, \"X\": 43.43434343434344, \"predictions\": [[16.505615234375]]}, {\"y\": 22.013039937682315, \"X\": 44.44444444444445, \"predictions\": [[16.889469146728516]]}, {\"y\": 23.701877449851704, \"X\": 45.45454545454546, \"predictions\": [[17.2733211517334]]}, {\"y\": 23.954042740196364, \"X\": 46.46464646464647, \"predictions\": [[17.65717315673828]]}, {\"y\": 25.761713610000182, \"X\": 47.47474747474748, \"predictions\": [[18.04102325439453]]}, {\"y\": 26.772729581737494, \"X\": 48.484848484848484, \"predictions\": [[18.42487335205078]]}, {\"y\": 25.852634232020705, \"X\": 49.494949494949495, \"predictions\": [[18.808725357055664]]}, {\"y\": 26.60071457889288, \"X\": 50.505050505050505, \"predictions\": [[19.192575454711914]]}, {\"y\": 27.735764165183625, \"X\": 51.515151515151516, \"predictions\": [[19.57642936706543]]}, {\"y\": 26.58286811996086, \"X\": 52.525252525252526, \"predictions\": [[19.960281372070312]]}, {\"y\": 29.583996807529974, \"X\": 53.535353535353536, \"predictions\": [[20.344131469726562]]}, {\"y\": 30.357176749492584, \"X\": 54.54545454545455, \"predictions\": [[20.727983474731445]]}, {\"y\": 29.584939372432736, \"X\": 55.55555555555556, \"predictions\": [[21.111835479736328]]}, {\"y\": 34.47223561259735, \"X\": 56.56565656565657, \"predictions\": [[21.495689392089844]]}, {\"y\": 32.022796662899644, \"X\": 57.57575757575758, \"predictions\": [[21.879539489746094]]}, {\"y\": 30.468384350540973, \"X\": 58.58585858585859, \"predictions\": [[22.263389587402344]]}, {\"y\": 30.473618903695318, \"X\": 59.5959595959596, \"predictions\": [[22.647239685058594]]}, {\"y\": 31.23866579114212, \"X\": 60.60606060606061, \"predictions\": [[23.03109359741211]]}, {\"y\": 31.204623008891073, \"X\": 61.61616161616162, \"predictions\": [[23.41494369506836]]}, {\"y\": 34.97070161935107, \"X\": 62.62626262626263, \"predictions\": [[23.79879379272461]]}, {\"y\": 31.82256175723839, \"X\": 63.63636363636364, \"predictions\": [[24.182647705078125]]}, {\"y\": 33.560987955598435, \"X\": 64.64646464646465, \"predictions\": [[24.566497802734375]]}, {\"y\": 33.169690666283856, \"X\": 65.65656565656566, \"predictions\": [[24.95035171508789]]}, {\"y\": 36.825699046949865, \"X\": 66.66666666666667, \"predictions\": [[25.33420181274414]]}, {\"y\": 32.40127177993705, \"X\": 67.67676767676768, \"predictions\": [[25.718053817749023]]}, {\"y\": 35.01843597712306, \"X\": 68.68686868686869, \"predictions\": [[26.10190200805664]]}, {\"y\": 36.00467346616107, \"X\": 69.6969696969697, \"predictions\": [[26.485755920410156]]}, {\"y\": 37.392248195717805, \"X\": 70.70707070707071, \"predictions\": [[26.86960792541504]]}, {\"y\": 38.1803916619293, \"X\": 71.71717171717172, \"predictions\": [[27.253459930419922]]}, {\"y\": 37.33205657897532, \"X\": 72.72727272727273, \"predictions\": [[27.637310028076172]]}, {\"y\": 40.24683178368575, \"X\": 73.73737373737374, \"predictions\": [[28.021162033081055]]}, {\"y\": 39.403244931360845, \"X\": 74.74747474747475, \"predictions\": [[28.405012130737305]]}, {\"y\": 44.21408999165709, \"X\": 75.75757575757576, \"predictions\": [[28.788864135742188]]}, {\"y\": 36.767195409511956, \"X\": 76.76767676767678, \"predictions\": [[29.172719955444336]]}, {\"y\": 41.53009021490612, \"X\": 77.77777777777779, \"predictions\": [[29.556570053100586]]}, {\"y\": 38.70367431891052, \"X\": 78.7878787878788, \"predictions\": [[29.940420150756836]]}, {\"y\": 39.702972263645414, \"X\": 79.7979797979798, \"predictions\": [[30.324275970458984]]}, {\"y\": 45.77420958689187, \"X\": 80.80808080808082, \"predictions\": [[30.708126068115234]]}, {\"y\": 45.798719205769515, \"X\": 81.81818181818183, \"predictions\": [[31.091976165771484]]}, {\"y\": 39.10177045291912, \"X\": 82.82828282828284, \"predictions\": [[31.475828170776367]]}, {\"y\": 42.87364452098592, \"X\": 83.83838383838385, \"predictions\": [[31.859676361083984]]}, {\"y\": 43.69254672882003, \"X\": 84.84848484848486, \"predictions\": [[32.2435302734375]]}, {\"y\": 40.065868712329724, \"X\": 85.85858585858587, \"predictions\": [[32.62738037109375]]}, {\"y\": 44.73668241166593, \"X\": 86.86868686868688, \"predictions\": [[33.01123046875]]}, {\"y\": 46.126076373557424, \"X\": 87.87878787878789, \"predictions\": [[33.39508819580078]]}, {\"y\": 46.278974734680524, \"X\": 88.8888888888889, \"predictions\": [[33.77893829345703]]}, {\"y\": 42.360707410012836, \"X\": 89.89898989898991, \"predictions\": [[34.16278839111328]]}, {\"y\": 49.06996192411076, \"X\": 90.90909090909092, \"predictions\": [[34.5466423034668]]}, {\"y\": 47.84868391289194, \"X\": 91.91919191919193, \"predictions\": [[34.93049240112305]]}, {\"y\": 47.74082240566166, \"X\": 92.92929292929294, \"predictions\": [[35.31434631347656]]}, {\"y\": 46.86191104820158, \"X\": 93.93939393939395, \"predictions\": [[35.69819641113281]]}, {\"y\": 50.298665507787156, \"X\": 94.94949494949496, \"predictions\": [[36.08204650878906]]}, {\"y\": 51.216336282756814, \"X\": 95.95959595959597, \"predictions\": [[36.46589279174805]]}, {\"y\": 48.92066220717753, \"X\": 96.96969696969697, \"predictions\": [[36.84974670410156]]}, {\"y\": 50.56907421507802, \"X\": 97.97979797979798, \"predictions\": [[37.23359680175781]]}, {\"y\": 52.548946740274026, \"X\": 98.98989898989899, \"predictions\": [[37.61745071411133]]}, {\"y\": 47.490975759996985, \"X\": 100.0, \"predictions\": [[38.001304626464844]]}]}}, {\"mode\": \"vega-lite\"});\n",
       "</script>"
      ],
      "text/plain": [
       "alt.Chart(...)"
      ]
     },
     "execution_count": 79,
     "metadata": {},
     "output_type": "execute_result"
    }
   ],
   "source": [
    "alt.Chart(dataset).mark_circle(size=60).encode(alt.X('X:Q'),alt.Y('y:Q'))"
   ]
  },
  {
   "cell_type": "code",
   "execution_count": 17,
   "metadata": {},
   "outputs": [],
   "source": [
    "train_dataset = dataset.sample(frac=0.8, random_state=0)\n",
    "test_dataset = dataset.drop(train_dataset.index)"
   ]
  },
  {
   "cell_type": "code",
   "execution_count": 18,
   "metadata": {},
   "outputs": [],
   "source": [
    "train_labels = train_dataset.pop('y')\n",
    "test_labels = test_dataset.pop('y')"
   ]
  },
  {
   "cell_type": "markdown",
   "metadata": {},
   "source": [
    "### Model"
   ]
  },
  {
   "cell_type": "code",
   "execution_count": 73,
   "metadata": {},
   "outputs": [],
   "source": [
    "class build_model(Model):\n",
    "    \n",
    "    def __init__(self, n_layers, size, size_output, activation = None, output_activation=None):\n",
    "        \n",
    "        super(build_model,self).__init__() \n",
    "        self.hiddenLayers = [Dense(size, activation=activation) for i in range(n_layers-1)]\n",
    "        self.outputLayer = Dense(size_output, activation=output_activation)\n",
    "        \n",
    "    def call(self,input_data):\n",
    "        \n",
    "        x = input_data\n",
    "        for layer in self.hiddenLayers:\n",
    "            \n",
    "            x = layer(x)\n",
    "            \n",
    "        return self.outputLayer(x)"
   ]
  },
  {
   "cell_type": "code",
   "execution_count": null,
   "metadata": {},
   "outputs": [],
   "source": []
  },
  {
   "cell_type": "code",
   "execution_count": 133,
   "metadata": {},
   "outputs": [],
   "source": [
    "model = build_model(2,10,1, activation='relu')\n",
    "\n",
    "model.compile(optimizer = tf.keras.optimizers.RMSprop(0.001),\n",
    "             loss = 'mse',\n",
    "             metrics = ['mae','mse'])"
   ]
  },
  {
   "cell_type": "markdown",
   "metadata": {},
   "source": [
    "### Training"
   ]
  },
  {
   "cell_type": "code",
   "execution_count": 134,
   "metadata": {},
   "outputs": [
    {
     "name": "stdout",
     "output_type": "stream",
     "text": [
      "WARNING:tensorflow:Layer build_model_16 is casting an input tensor from dtype float64 to the layer's dtype of float32, which is new behavior in TensorFlow 2.  The layer has dtype float32 because its dtype defaults to floatx.\n",
      "\n",
      "If you intended to run this layer in float32, you can safely ignore this warning. If in doubt, this warning is likely only an issue if you are porting a TensorFlow 1.X model to TensorFlow 2.\n",
      "\n",
      "To change all layers to have dtype float64 by default, call `tf.keras.backend.set_floatx('float64')`. To change just this layer, pass dtype='float64' to the layer constructor. If you are the author of this layer, you can disable autocasting by passing autocast=False to the base Layer constructor.\n",
      "\n"
     ]
    }
   ],
   "source": [
    "history = model.fit(train_dataset, train_labels, epochs=100, validation_split = 0.2, verbose=0)"
   ]
  },
  {
   "cell_type": "code",
   "execution_count": 135,
   "metadata": {},
   "outputs": [
    {
     "data": {
      "text/html": [
       "<div>\n",
       "<style scoped>\n",
       "    .dataframe tbody tr th:only-of-type {\n",
       "        vertical-align: middle;\n",
       "    }\n",
       "\n",
       "    .dataframe tbody tr th {\n",
       "        vertical-align: top;\n",
       "    }\n",
       "\n",
       "    .dataframe thead th {\n",
       "        text-align: right;\n",
       "    }\n",
       "</style>\n",
       "<table border=\"1\" class=\"dataframe\">\n",
       "  <thead>\n",
       "    <tr style=\"text-align: right;\">\n",
       "      <th></th>\n",
       "      <th>loss</th>\n",
       "      <th>mae</th>\n",
       "      <th>mse</th>\n",
       "      <th>val_loss</th>\n",
       "      <th>val_mae</th>\n",
       "      <th>val_mse</th>\n",
       "      <th>epoch</th>\n",
       "    </tr>\n",
       "  </thead>\n",
       "  <tbody>\n",
       "    <tr>\n",
       "      <th>95</th>\n",
       "      <td>4.507824</td>\n",
       "      <td>1.705044</td>\n",
       "      <td>4.507824</td>\n",
       "      <td>4.564879</td>\n",
       "      <td>1.584780</td>\n",
       "      <td>4.564879</td>\n",
       "      <td>95</td>\n",
       "    </tr>\n",
       "    <tr>\n",
       "      <th>96</th>\n",
       "      <td>4.497241</td>\n",
       "      <td>1.702947</td>\n",
       "      <td>4.497241</td>\n",
       "      <td>5.050699</td>\n",
       "      <td>1.648891</td>\n",
       "      <td>5.050699</td>\n",
       "      <td>96</td>\n",
       "    </tr>\n",
       "    <tr>\n",
       "      <th>97</th>\n",
       "      <td>4.551529</td>\n",
       "      <td>1.711673</td>\n",
       "      <td>4.551529</td>\n",
       "      <td>5.383351</td>\n",
       "      <td>1.686555</td>\n",
       "      <td>5.383351</td>\n",
       "      <td>97</td>\n",
       "    </tr>\n",
       "    <tr>\n",
       "      <th>98</th>\n",
       "      <td>4.570146</td>\n",
       "      <td>1.709804</td>\n",
       "      <td>4.570146</td>\n",
       "      <td>5.392713</td>\n",
       "      <td>1.687440</td>\n",
       "      <td>5.392713</td>\n",
       "      <td>98</td>\n",
       "    </tr>\n",
       "    <tr>\n",
       "      <th>99</th>\n",
       "      <td>4.745450</td>\n",
       "      <td>1.736513</td>\n",
       "      <td>4.745450</td>\n",
       "      <td>4.313509</td>\n",
       "      <td>1.544250</td>\n",
       "      <td>4.313509</td>\n",
       "      <td>99</td>\n",
       "    </tr>\n",
       "  </tbody>\n",
       "</table>\n",
       "</div>"
      ],
      "text/plain": [
       "        loss       mae       mse  val_loss   val_mae   val_mse  epoch\n",
       "95  4.507824  1.705044  4.507824  4.564879  1.584780  4.564879     95\n",
       "96  4.497241  1.702947  4.497241  5.050699  1.648891  5.050699     96\n",
       "97  4.551529  1.711673  4.551529  5.383351  1.686555  5.383351     97\n",
       "98  4.570146  1.709804  4.570146  5.392713  1.687440  5.392713     98\n",
       "99  4.745450  1.736513  4.745450  4.313509  1.544250  4.313509     99"
      ]
     },
     "execution_count": 135,
     "metadata": {},
     "output_type": "execute_result"
    }
   ],
   "source": [
    "hist = pd.DataFrame(history.history)\n",
    "hist['epoch'] = history.epoch\n",
    "hist.tail()"
   ]
  },
  {
   "cell_type": "code",
   "execution_count": 140,
   "metadata": {},
   "outputs": [
    {
     "data": {
      "text/html": [
       "\n",
       "<div id=\"altair-viz-61757e0614e3480cafcabd0af0fdbfd4\"></div>\n",
       "<script type=\"text/javascript\">\n",
       "  (function(spec, embedOpt){\n",
       "    let outputDiv = document.currentScript.previousElementSibling;\n",
       "    if (outputDiv.id !== \"altair-viz-61757e0614e3480cafcabd0af0fdbfd4\") {\n",
       "      outputDiv = document.getElementById(\"altair-viz-61757e0614e3480cafcabd0af0fdbfd4\");\n",
       "    }\n",
       "    const paths = {\n",
       "      \"vega\": \"https://cdn.jsdelivr.net/npm//vega@5?noext\",\n",
       "      \"vega-lib\": \"https://cdn.jsdelivr.net/npm//vega-lib?noext\",\n",
       "      \"vega-lite\": \"https://cdn.jsdelivr.net/npm//vega-lite@4.8.1?noext\",\n",
       "      \"vega-embed\": \"https://cdn.jsdelivr.net/npm//vega-embed@6?noext\",\n",
       "    };\n",
       "\n",
       "    function loadScript(lib) {\n",
       "      return new Promise(function(resolve, reject) {\n",
       "        var s = document.createElement('script');\n",
       "        s.src = paths[lib];\n",
       "        s.async = true;\n",
       "        s.onload = () => resolve(paths[lib]);\n",
       "        s.onerror = () => reject(`Error loading script: ${paths[lib]}`);\n",
       "        document.getElementsByTagName(\"head\")[0].appendChild(s);\n",
       "      });\n",
       "    }\n",
       "\n",
       "    function showError(err) {\n",
       "      outputDiv.innerHTML = `<div class=\"error\" style=\"color:red;\">${err}</div>`;\n",
       "      throw err;\n",
       "    }\n",
       "\n",
       "    function displayChart(vegaEmbed) {\n",
       "      vegaEmbed(outputDiv, spec, embedOpt)\n",
       "        .catch(err => showError(`Javascript Error: ${err.message}<br>This usually means there's a typo in your chart specification. See the javascript console for the full traceback.`));\n",
       "    }\n",
       "\n",
       "    if(typeof define === \"function\" && define.amd) {\n",
       "      requirejs.config({paths});\n",
       "      require([\"vega-embed\"], displayChart, err => showError(`Error loading script: ${err.message}`));\n",
       "    } else if (typeof vegaEmbed === \"function\") {\n",
       "      displayChart(vegaEmbed);\n",
       "    } else {\n",
       "      loadScript(\"vega\")\n",
       "        .then(() => loadScript(\"vega-lite\"))\n",
       "        .then(() => loadScript(\"vega-embed\"))\n",
       "        .catch(showError)\n",
       "        .then(() => displayChart(vegaEmbed));\n",
       "    }\n",
       "  })({\"config\": {\"view\": {\"continuousWidth\": 400, \"continuousHeight\": 300}}, \"layer\": [{\"mark\": \"line\", \"encoding\": {\"x\": {\"type\": \"quantitative\", \"field\": \"epoch\"}, \"y\": {\"type\": \"quantitative\", \"field\": \"mae\", \"scale\": {\"clamp\": true, \"domain\": [0, 15]}}}, \"height\": 200, \"width\": 600}, {\"mark\": {\"type\": \"line\", \"color\": \"red\"}, \"encoding\": {\"x\": {\"type\": \"quantitative\", \"field\": \"epoch\"}, \"y\": {\"type\": \"quantitative\", \"field\": \"val_mae\", \"scale\": {\"domain\": [0, 15]}}}, \"height\": 200, \"width\": 600}], \"data\": {\"name\": \"data-bbf2a0ac775bc1f8410e921b3b7d495b\"}, \"$schema\": \"https://vega.github.io/schema/vega-lite/v4.8.1.json\", \"datasets\": {\"data-bbf2a0ac775bc1f8410e921b3b7d495b\": [{\"loss\": 1070.624267578125, \"mae\": 28.200204849243164, \"mse\": 1070.624267578125, \"val_loss\": 1619.2669677734375, \"val_mae\": 36.43113708496094, \"val_mse\": 1619.2669677734375, \"epoch\": 0}, {\"loss\": 985.8458251953125, \"mae\": 27.112831115722656, \"mse\": 985.8458251953125, \"val_loss\": 1515.5799560546875, \"val_mae\": 35.24225997924805, \"val_mse\": 1515.5799560546875, \"epoch\": 1}, {\"loss\": 927.1183471679688, \"mae\": 26.306774139404297, \"mse\": 927.1183471679688, \"val_loss\": 1432.2171630859375, \"val_mae\": 34.25652313232422, \"val_mse\": 1432.2171630859375, \"epoch\": 2}, {\"loss\": 879.3045043945312, \"mae\": 25.616531372070312, \"mse\": 879.3045043945312, \"val_loss\": 1361.2694091796875, \"val_mae\": 33.394683837890625, \"val_mse\": 1361.2694091796875, \"epoch\": 3}, {\"loss\": 837.4683227539062, \"mae\": 25.014616012573242, \"mse\": 837.4683227539062, \"val_loss\": 1296.81787109375, \"val_mae\": 32.592010498046875, \"val_mse\": 1296.81787109375, \"epoch\": 4}, {\"loss\": 799.4782104492188, \"mae\": 24.459522247314453, \"mse\": 799.4782104492188, \"val_loss\": 1237.176513671875, \"val_mae\": 31.83123779296875, \"val_mse\": 1237.176513671875, \"epoch\": 5}, {\"loss\": 764.2169799804688, \"mae\": 23.921768188476562, \"mse\": 764.2169799804688, \"val_loss\": 1181.974609375, \"val_mae\": 31.110523223876953, \"val_mse\": 1181.974609375, \"epoch\": 6}, {\"loss\": 731.52685546875, \"mae\": 23.40190887451172, \"mse\": 731.52685546875, \"val_loss\": 1129.9798583984375, \"val_mae\": 30.41606903076172, \"val_mse\": 1129.9798583984375, \"epoch\": 7}, {\"loss\": 700.2711181640625, \"mae\": 22.921695709228516, \"mse\": 700.2711181640625, \"val_loss\": 1080.0302734375, \"val_mae\": 29.733673095703125, \"val_mse\": 1080.0302734375, \"epoch\": 8}, {\"loss\": 670.4241943359375, \"mae\": 22.434377670288086, \"mse\": 670.4241943359375, \"val_loss\": 1032.1129150390625, \"val_mae\": 29.063995361328125, \"val_mse\": 1032.1129150390625, \"epoch\": 9}, {\"loss\": 641.974853515625, \"mae\": 21.952268600463867, \"mse\": 641.974853515625, \"val_loss\": 986.6243286132812, \"val_mae\": 28.413660049438477, \"val_mse\": 986.6243286132812, \"epoch\": 10}, {\"loss\": 614.4577026367188, \"mae\": 21.497093200683594, \"mse\": 614.4577026367188, \"val_loss\": 942.309814453125, \"val_mae\": 27.765483856201172, \"val_mse\": 942.309814453125, \"epoch\": 11}, {\"loss\": 588.1971435546875, \"mae\": 21.027507781982422, \"mse\": 588.1971435546875, \"val_loss\": 900.1261596679688, \"val_mae\": 27.13408660888672, \"val_mse\": 900.1261596679688, \"epoch\": 12}, {\"loss\": 562.5233154296875, \"mae\": 20.58222198486328, \"mse\": 562.5233154296875, \"val_loss\": 858.9180908203125, \"val_mae\": 26.502790451049805, \"val_mse\": 858.9180908203125, \"epoch\": 13}, {\"loss\": 537.6954956054688, \"mae\": 20.135608673095703, \"mse\": 537.6954956054688, \"val_loss\": 818.8204956054688, \"val_mae\": 25.87373161315918, \"val_mse\": 818.8204956054688, \"epoch\": 14}, {\"loss\": 513.543701171875, \"mae\": 19.691177368164062, \"mse\": 513.543701171875, \"val_loss\": 779.9820556640625, \"val_mae\": 25.249500274658203, \"val_mse\": 779.9820556640625, \"epoch\": 15}, {\"loss\": 490.14581298828125, \"mae\": 19.24054718017578, \"mse\": 490.14581298828125, \"val_loss\": 742.5569458007812, \"val_mae\": 24.63302993774414, \"val_mse\": 742.5569458007812, \"epoch\": 16}, {\"loss\": 467.6108093261719, \"mae\": 18.79952049255371, \"mse\": 467.6108093261719, \"val_loss\": 706.3392944335938, \"val_mae\": 24.02139663696289, \"val_mse\": 706.3392944335938, \"epoch\": 17}, {\"loss\": 445.6055603027344, \"mae\": 18.366790771484375, \"mse\": 445.6055603027344, \"val_loss\": 670.915771484375, \"val_mae\": 23.407733917236328, \"val_mse\": 670.915771484375, \"epoch\": 18}, {\"loss\": 424.1842956542969, \"mae\": 17.927227020263672, \"mse\": 424.1842956542969, \"val_loss\": 636.6961669921875, \"val_mae\": 22.79925537109375, \"val_mse\": 636.6961669921875, \"epoch\": 19}, {\"loss\": 403.51739501953125, \"mae\": 17.494918823242188, \"mse\": 403.51739501953125, \"val_loss\": 603.6182861328125, \"val_mae\": 22.19524383544922, \"val_mse\": 603.6182861328125, \"epoch\": 20}, {\"loss\": 383.58447265625, \"mae\": 17.074615478515625, \"mse\": 383.58447265625, \"val_loss\": 571.2696533203125, \"val_mae\": 21.588218688964844, \"val_mse\": 571.2696533203125, \"epoch\": 21}, {\"loss\": 363.7682189941406, \"mae\": 16.634328842163086, \"mse\": 363.7682189941406, \"val_loss\": 540.2218017578125, \"val_mae\": 20.989107131958008, \"val_mse\": 540.2218017578125, \"epoch\": 22}, {\"loss\": 344.89739990234375, \"mae\": 16.202411651611328, \"mse\": 344.89739990234375, \"val_loss\": 510.14593505859375, \"val_mae\": 20.391984939575195, \"val_mse\": 510.14593505859375, \"epoch\": 23}, {\"loss\": 326.5888671875, \"mae\": 15.781699180603027, \"mse\": 326.5888671875, \"val_loss\": 480.9244384765625, \"val_mae\": 19.794597625732422, \"val_mse\": 480.9244384765625, \"epoch\": 24}, {\"loss\": 308.8843688964844, \"mae\": 15.348394393920898, \"mse\": 308.8843688964844, \"val_loss\": 452.92230224609375, \"val_mae\": 19.20471954345703, \"val_mse\": 452.92230224609375, \"epoch\": 25}, {\"loss\": 291.7091064453125, \"mae\": 14.932512283325195, \"mse\": 291.7091064453125, \"val_loss\": 425.7137451171875, \"val_mae\": 18.613676071166992, \"val_mse\": 425.7137451171875, \"epoch\": 26}, {\"loss\": 275.0919189453125, \"mae\": 14.511161804199219, \"mse\": 275.0919189453125, \"val_loss\": 399.446044921875, \"val_mae\": 18.02471160888672, \"val_mse\": 399.446044921875, \"epoch\": 27}, {\"loss\": 259.0146179199219, \"mae\": 14.08442497253418, \"mse\": 259.0146179199219, \"val_loss\": 374.095458984375, \"val_mae\": 17.437471389770508, \"val_mse\": 374.095458984375, \"epoch\": 28}, {\"loss\": 243.52586364746094, \"mae\": 13.667448043823242, \"mse\": 243.52586364746094, \"val_loss\": 349.73394775390625, \"val_mae\": 16.85388946533203, \"val_mse\": 349.73394775390625, \"epoch\": 29}, {\"loss\": 228.54837036132812, \"mae\": 13.25092887878418, \"mse\": 228.54837036132812, \"val_loss\": 326.2554931640625, \"val_mae\": 16.271686553955078, \"val_mse\": 326.2554931640625, \"epoch\": 30}, {\"loss\": 214.08047485351562, \"mae\": 12.84350872039795, \"mse\": 214.08047485351562, \"val_loss\": 303.5743408203125, \"val_mae\": 15.688775062561035, \"val_mse\": 303.5743408203125, \"epoch\": 31}, {\"loss\": 200.11502075195312, \"mae\": 12.424964904785156, \"mse\": 200.11502075195312, \"val_loss\": 281.8727722167969, \"val_mae\": 15.11002254486084, \"val_mse\": 281.8727722167969, \"epoch\": 32}, {\"loss\": 186.73947143554688, \"mae\": 12.01413345336914, \"mse\": 186.73947143554688, \"val_loss\": 261.02197265625, \"val_mae\": 14.5322847366333, \"val_mse\": 261.02197265625, \"epoch\": 33}, {\"loss\": 173.84539794921875, \"mae\": 11.600505828857422, \"mse\": 173.84539794921875, \"val_loss\": 241.11532592773438, \"val_mae\": 13.958436965942383, \"val_mse\": 241.11532592773438, \"epoch\": 34}, {\"loss\": 161.5616455078125, \"mae\": 11.185154914855957, \"mse\": 161.5616455078125, \"val_loss\": 222.27577209472656, \"val_mae\": 13.392744064331055, \"val_mse\": 222.27577209472656, \"epoch\": 35}, {\"loss\": 149.81027221679688, \"mae\": 10.784337997436523, \"mse\": 149.81027221679688, \"val_loss\": 204.24105834960938, \"val_mae\": 12.827899932861328, \"val_mse\": 204.24105834960938, \"epoch\": 36}, {\"loss\": 138.57443237304688, \"mae\": 10.38528823852539, \"mse\": 138.57443237304688, \"val_loss\": 187.00100708007812, \"val_mae\": 12.263677597045898, \"val_mse\": 187.00100708007812, \"epoch\": 37}, {\"loss\": 127.99895477294922, \"mae\": 9.978910446166992, \"mse\": 127.99895477294922, \"val_loss\": 170.91461181640625, \"val_mae\": 11.712749481201172, \"val_mse\": 170.91461181640625, \"epoch\": 38}, {\"loss\": 117.77875518798828, \"mae\": 9.58672046661377, \"mse\": 117.77875518798828, \"val_loss\": 155.56167602539062, \"val_mae\": 11.161643981933594, \"val_mse\": 155.56167602539062, \"epoch\": 39}, {\"loss\": 108.07627868652344, \"mae\": 9.197103500366211, \"mse\": 108.07627868652344, \"val_loss\": 140.95928955078125, \"val_mae\": 10.610997200012207, \"val_mse\": 140.95928955078125, \"epoch\": 40}, {\"loss\": 98.972900390625, \"mae\": 8.801857948303223, \"mse\": 98.972900390625, \"val_loss\": 127.33570861816406, \"val_mae\": 10.070182800292969, \"val_mse\": 127.33570861816406, \"epoch\": 41}, {\"loss\": 90.2418212890625, \"mae\": 8.423994064331055, \"mse\": 90.2418212890625, \"val_loss\": 114.39246368408203, \"val_mae\": 9.528032302856445, \"val_mse\": 114.39246368408203, \"epoch\": 42}, {\"loss\": 82.04229736328125, \"mae\": 8.036966323852539, \"mse\": 82.04229736328125, \"val_loss\": 102.25172424316406, \"val_mae\": 9.00861930847168, \"val_mse\": 102.25172424316406, \"epoch\": 43}, {\"loss\": 74.30180358886719, \"mae\": 7.650082111358643, \"mse\": 74.30180358886719, \"val_loss\": 91.05674743652344, \"val_mae\": 8.503582000732422, \"val_mse\": 91.05674743652344, \"epoch\": 44}, {\"loss\": 67.10960388183594, \"mae\": 7.273935794830322, \"mse\": 67.10960388183594, \"val_loss\": 80.6365966796875, \"val_mae\": 8.003538131713867, \"val_mse\": 80.6365966796875, \"epoch\": 45}, {\"loss\": 60.349647521972656, \"mae\": 6.900796890258789, \"mse\": 60.349647521972656, \"val_loss\": 70.97078704833984, \"val_mae\": 7.508448600769043, \"val_mse\": 70.97078704833984, \"epoch\": 46}, {\"loss\": 54.04275131225586, \"mae\": 6.535918235778809, \"mse\": 54.04275131225586, \"val_loss\": 62.017303466796875, \"val_mae\": 7.017030715942383, \"val_mse\": 62.017303466796875, \"epoch\": 47}, {\"loss\": 48.21697998046875, \"mae\": 6.168326377868652, \"mse\": 48.21697998046875, \"val_loss\": 53.86912536621094, \"val_mae\": 6.53587007522583, \"val_mse\": 53.86912536621094, \"epoch\": 48}, {\"loss\": 42.79714584350586, \"mae\": 5.809695243835449, \"mse\": 42.79714584350586, \"val_loss\": 46.40574645996094, \"val_mae\": 6.0595598220825195, \"val_mse\": 46.40574645996094, \"epoch\": 49}, {\"loss\": 37.84485626220703, \"mae\": 5.458759784698486, \"mse\": 37.84485626220703, \"val_loss\": 39.6756477355957, \"val_mae\": 5.592938423156738, \"val_mse\": 39.6756477355957, \"epoch\": 50}, {\"loss\": 33.342430114746094, \"mae\": 5.112242698669434, \"mse\": 33.342430114746094, \"val_loss\": 33.659000396728516, \"val_mae\": 5.137276649475098, \"val_mse\": 33.659000396728516, \"epoch\": 51}, {\"loss\": 29.22997283935547, \"mae\": 4.781242370605469, \"mse\": 29.22997283935547, \"val_loss\": 28.29945182800293, \"val_mae\": 4.691112995147705, \"val_mse\": 28.29945182800293, \"epoch\": 52}, {\"loss\": 25.4620304107666, \"mae\": 4.460537433624268, \"mse\": 25.4620304107666, \"val_loss\": 23.52578353881836, \"val_mae\": 4.254115104675293, \"val_mse\": 23.52578353881836, \"epoch\": 53}, {\"loss\": 22.109130859375, \"mae\": 4.142694473266602, \"mse\": 22.109130859375, \"val_loss\": 19.35643196105957, \"val_mae\": 3.8412461280822754, \"val_mse\": 19.35643196105957, \"epoch\": 54}, {\"loss\": 19.15534210205078, \"mae\": 3.8214056491851807, \"mse\": 19.15534210205078, \"val_loss\": 15.833076477050781, \"val_mae\": 3.447159767150879, \"val_mse\": 15.833076477050781, \"epoch\": 55}, {\"loss\": 16.51251983642578, \"mae\": 3.5183653831481934, \"mse\": 16.51251983642578, \"val_loss\": 12.833927154541016, \"val_mae\": 3.0669565200805664, \"val_mse\": 12.833927154541016, \"epoch\": 56}, {\"loss\": 14.265586853027344, \"mae\": 3.2370457649230957, \"mse\": 14.265586853027344, \"val_loss\": 10.346370697021484, \"val_mae\": 2.785942554473877, \"val_mse\": 10.346370697021484, \"epoch\": 57}, {\"loss\": 12.26644515991211, \"mae\": 2.967837333679199, \"mse\": 12.26644515991211, \"val_loss\": 8.31174373626709, \"val_mae\": 2.5627565383911133, \"val_mse\": 8.31174373626709, \"epoch\": 58}, {\"loss\": 10.586612701416016, \"mae\": 2.742292881011963, \"mse\": 10.586612701416016, \"val_loss\": 6.716763496398926, \"val_mae\": 2.3506999015808105, \"val_mse\": 6.716763496398926, \"epoch\": 59}, {\"loss\": 9.186347961425781, \"mae\": 2.5266764163970947, \"mse\": 9.186347961425781, \"val_loss\": 5.507291316986084, \"val_mae\": 2.149346351623535, \"val_mse\": 5.507291316986084, \"epoch\": 60}, {\"loss\": 8.027400016784668, \"mae\": 2.340226650238037, \"mse\": 8.027400016784668, \"val_loss\": 4.63242244720459, \"val_mae\": 1.9577856063842773, \"val_mse\": 4.63242244720459, \"epoch\": 61}, {\"loss\": 7.126826763153076, \"mae\": 2.169139862060547, \"mse\": 7.126826763153076, \"val_loss\": 4.078859329223633, \"val_mae\": 1.8191635608673096, \"val_mse\": 4.078859329223633, \"epoch\": 62}, {\"loss\": 6.381130218505859, \"mae\": 2.0333356857299805, \"mse\": 6.381130218505859, \"val_loss\": 3.749967098236084, \"val_mae\": 1.7002699375152588, \"val_mse\": 3.749967098236084, \"epoch\": 63}, {\"loss\": 5.810524940490723, \"mae\": 1.9275747537612915, \"mse\": 5.810524940490723, \"val_loss\": 3.622077465057373, \"val_mae\": 1.595668077468872, \"val_mse\": 3.622077465057373, \"epoch\": 64}, {\"loss\": 5.404109001159668, \"mae\": 1.8486162424087524, \"mse\": 5.404109001159668, \"val_loss\": 3.6373887062072754, \"val_mae\": 1.5000314712524414, \"val_mse\": 3.6373887062072754, \"epoch\": 65}, {\"loss\": 5.112748146057129, \"mae\": 1.793265461921692, \"mse\": 5.112748146057129, \"val_loss\": 3.7484846115112305, \"val_mae\": 1.4509661197662354, \"val_mse\": 3.7484846115112305, \"epoch\": 66}, {\"loss\": 4.93079948425293, \"mae\": 1.7681163549423218, \"mse\": 4.93079948425293, \"val_loss\": 3.898496389389038, \"val_mae\": 1.4661269187927246, \"val_mse\": 3.898496389389038, \"epoch\": 67}, {\"loss\": 4.854336261749268, \"mae\": 1.752120018005371, \"mse\": 4.854336261749268, \"val_loss\": 4.054628372192383, \"val_mae\": 1.497819185256958, \"val_mse\": 4.054628372192383, \"epoch\": 68}, {\"loss\": 4.734846591949463, \"mae\": 1.7376713752746582, \"mse\": 4.734846591949463, \"val_loss\": 4.230130672454834, \"val_mae\": 1.5324797630310059, \"val_mse\": 4.230130672454834, \"epoch\": 69}, {\"loss\": 4.709400653839111, \"mae\": 1.7312567234039307, \"mse\": 4.709400653839111, \"val_loss\": 4.361841678619385, \"val_mae\": 1.5553152561187744, \"val_mse\": 4.361841678619385, \"epoch\": 70}, {\"loss\": 4.638689994812012, \"mae\": 1.7215707302093506, \"mse\": 4.638689994812012, \"val_loss\": 4.528502464294434, \"val_mae\": 1.5814979076385498, \"val_mse\": 4.528502464294434, \"epoch\": 71}, {\"loss\": 4.630836009979248, \"mae\": 1.7226818799972534, \"mse\": 4.630836009979248, \"val_loss\": 4.616024017333984, \"val_mae\": 1.5942713022232056, \"val_mse\": 4.616024017333984, \"epoch\": 72}, {\"loss\": 4.690030097961426, \"mae\": 1.7396433353424072, \"mse\": 4.690030097961426, \"val_loss\": 4.620691299438477, \"val_mae\": 1.5948975086212158, \"val_mse\": 4.620691299438477, \"epoch\": 73}, {\"loss\": 4.689950942993164, \"mae\": 1.7348637580871582, \"mse\": 4.689950942993164, \"val_loss\": 4.601070880889893, \"val_mae\": 1.5920352935791016, \"val_mse\": 4.601070880889893, \"epoch\": 74}, {\"loss\": 4.641901969909668, \"mae\": 1.7247910499572754, \"mse\": 4.641901969909668, \"val_loss\": 4.630292892456055, \"val_mae\": 1.5961695909500122, \"val_mse\": 4.630292892456055, \"epoch\": 75}, {\"loss\": 4.66380500793457, \"mae\": 1.7263596057891846, \"mse\": 4.66380500793457, \"val_loss\": 4.641005516052246, \"val_mae\": 1.5976340770721436, \"val_mse\": 4.641005516052246, \"epoch\": 76}, {\"loss\": 4.594036102294922, \"mae\": 1.7194643020629883, \"mse\": 4.594036102294922, \"val_loss\": 4.771001815795898, \"val_mae\": 1.6154108047485352, \"val_mse\": 4.771001815795898, \"epoch\": 77}, {\"loss\": 4.665076732635498, \"mae\": 1.7383153438568115, \"mse\": 4.665076732635498, \"val_loss\": 5.014928340911865, \"val_mae\": 1.6462996006011963, \"val_mse\": 5.014928340911865, \"epoch\": 78}, {\"loss\": 4.640294075012207, \"mae\": 1.7306880950927734, \"mse\": 4.640294075012207, \"val_loss\": 5.045765399932861, \"val_mae\": 1.6499502658843994, \"val_mse\": 5.045765399932861, \"epoch\": 79}, {\"loss\": 4.581626892089844, \"mae\": 1.7173635959625244, \"mse\": 4.581626892089844, \"val_loss\": 4.938884735107422, \"val_mae\": 1.636831283569336, \"val_mse\": 4.938884735107422, \"epoch\": 80}, {\"loss\": 4.573692321777344, \"mae\": 1.7162009477615356, \"mse\": 4.573692321777344, \"val_loss\": 4.88070821762085, \"val_mae\": 1.6294326782226562, \"val_mse\": 4.88070821762085, \"epoch\": 81}, {\"loss\": 4.635712623596191, \"mae\": 1.7295901775360107, \"mse\": 4.635712623596191, \"val_loss\": 4.623114585876465, \"val_mae\": 1.5946699380874634, \"val_mse\": 4.623114585876465, \"epoch\": 82}, {\"loss\": 4.580698490142822, \"mae\": 1.7110748291015625, \"mse\": 4.580698490142822, \"val_loss\": 4.710923194885254, \"val_mae\": 1.6068565845489502, \"val_mse\": 4.710923194885254, \"epoch\": 83}, {\"loss\": 4.618334770202637, \"mae\": 1.7179090976715088, \"mse\": 4.618334770202637, \"val_loss\": 5.102545261383057, \"val_mae\": 1.6563091278076172, \"val_mse\": 5.102545261383057, \"epoch\": 84}, {\"loss\": 4.6401238441467285, \"mae\": 1.7280128002166748, \"mse\": 4.6401238441467285, \"val_loss\": 4.583713054656982, \"val_mae\": 1.5887157917022705, \"val_mse\": 4.583713054656982, \"epoch\": 85}, {\"loss\": 4.557703018188477, \"mae\": 1.7122793197631836, \"mse\": 4.557703018188477, \"val_loss\": 4.91883659362793, \"val_mae\": 1.6338250637054443, \"val_mse\": 4.91883659362793, \"epoch\": 86}, {\"loss\": 4.658597946166992, \"mae\": 1.7182371616363525, \"mse\": 4.658597946166992, \"val_loss\": 5.230701446533203, \"val_mae\": 1.6707959175109863, \"val_mse\": 5.230701446533203, \"epoch\": 87}, {\"loss\": 4.674193382263184, \"mae\": 1.7282780408859253, \"mse\": 4.674193382263184, \"val_loss\": 5.346630096435547, \"val_mae\": 1.6835533380508423, \"val_mse\": 5.346630096435547, \"epoch\": 88}, {\"loss\": 4.550675868988037, \"mae\": 1.7128243446350098, \"mse\": 4.550675868988037, \"val_loss\": 4.738882541656494, \"val_mae\": 1.6100760698318481, \"val_mse\": 4.738882541656494, \"epoch\": 89}, {\"loss\": 4.556412696838379, \"mae\": 1.7140376567840576, \"mse\": 4.556412696838379, \"val_loss\": 4.612418174743652, \"val_mae\": 1.5923328399658203, \"val_mse\": 4.612418174743652, \"epoch\": 90}, {\"loss\": 4.59404993057251, \"mae\": 1.711052656173706, \"mse\": 4.59404993057251, \"val_loss\": 5.2947282791137695, \"val_mae\": 1.6775562763214111, \"val_mse\": 5.2947282791137695, \"epoch\": 91}, {\"loss\": 4.526805400848389, \"mae\": 1.7082982063293457, \"mse\": 4.526805400848389, \"val_loss\": 4.780173301696777, \"val_mae\": 1.615278720855713, \"val_mse\": 4.780173301696777, \"epoch\": 92}, {\"loss\": 4.511625289916992, \"mae\": 1.7043004035949707, \"mse\": 4.511625289916992, \"val_loss\": 4.807259559631348, \"val_mae\": 1.618741512298584, \"val_mse\": 4.807259559631348, \"epoch\": 93}, {\"loss\": 4.520740509033203, \"mae\": 1.7015175819396973, \"mse\": 4.520740509033203, \"val_loss\": 5.089150428771973, \"val_mae\": 1.6537199020385742, \"val_mse\": 5.089150428771973, \"epoch\": 94}, {\"loss\": 4.507824420928955, \"mae\": 1.7050442695617676, \"mse\": 4.507824420928955, \"val_loss\": 4.564879417419434, \"val_mae\": 1.5847795009613037, \"val_mse\": 4.564879417419434, \"epoch\": 95}, {\"loss\": 4.497241020202637, \"mae\": 1.7029473781585693, \"mse\": 4.497241020202637, \"val_loss\": 5.050699234008789, \"val_mae\": 1.6488909721374512, \"val_mse\": 5.050699234008789, \"epoch\": 96}, {\"loss\": 4.5515289306640625, \"mae\": 1.7116734981536865, \"mse\": 4.5515289306640625, \"val_loss\": 5.383350849151611, \"val_mae\": 1.6865551471710205, \"val_mse\": 5.383350849151611, \"epoch\": 97}, {\"loss\": 4.570145606994629, \"mae\": 1.709803581237793, \"mse\": 4.570145606994629, \"val_loss\": 5.3927130699157715, \"val_mae\": 1.6874401569366455, \"val_mse\": 5.3927130699157715, \"epoch\": 98}, {\"loss\": 4.745450019836426, \"mae\": 1.7365126609802246, \"mse\": 4.745450019836426, \"val_loss\": 4.313508987426758, \"val_mae\": 1.5442497730255127, \"val_mse\": 4.313508987426758, \"epoch\": 99}]}}, {\"mode\": \"vega-lite\"});\n",
       "</script>"
      ],
      "text/plain": [
       "alt.LayerChart(...)"
      ]
     },
     "execution_count": 140,
     "metadata": {},
     "output_type": "execute_result"
    }
   ],
   "source": [
    "train_error = alt.Chart(hist,height=200,width=600).mark_line().encode(alt.X('epoch'),alt.Y('mae',scale=alt.Scale(domain=[0,15],clamp=True)))\n",
    "val_error = alt.Chart(hist,height=200,width=600).mark_line(color='red').encode(alt.X('epoch'),alt.Y('val_mae',scale=alt.Scale(domain=[0,15])))\n",
    "\n",
    "train_error + val_error"
   ]
  },
  {
   "cell_type": "code",
   "execution_count": 139,
   "metadata": {},
   "outputs": [
    {
     "data": {
      "text/html": [
       "\n",
       "<div id=\"altair-viz-f6216a6b0fc347caa7e58b78c13ac93b\"></div>\n",
       "<script type=\"text/javascript\">\n",
       "  (function(spec, embedOpt){\n",
       "    let outputDiv = document.currentScript.previousElementSibling;\n",
       "    if (outputDiv.id !== \"altair-viz-f6216a6b0fc347caa7e58b78c13ac93b\") {\n",
       "      outputDiv = document.getElementById(\"altair-viz-f6216a6b0fc347caa7e58b78c13ac93b\");\n",
       "    }\n",
       "    const paths = {\n",
       "      \"vega\": \"https://cdn.jsdelivr.net/npm//vega@5?noext\",\n",
       "      \"vega-lib\": \"https://cdn.jsdelivr.net/npm//vega-lib?noext\",\n",
       "      \"vega-lite\": \"https://cdn.jsdelivr.net/npm//vega-lite@4.8.1?noext\",\n",
       "      \"vega-embed\": \"https://cdn.jsdelivr.net/npm//vega-embed@6?noext\",\n",
       "    };\n",
       "\n",
       "    function loadScript(lib) {\n",
       "      return new Promise(function(resolve, reject) {\n",
       "        var s = document.createElement('script');\n",
       "        s.src = paths[lib];\n",
       "        s.async = true;\n",
       "        s.onload = () => resolve(paths[lib]);\n",
       "        s.onerror = () => reject(`Error loading script: ${paths[lib]}`);\n",
       "        document.getElementsByTagName(\"head\")[0].appendChild(s);\n",
       "      });\n",
       "    }\n",
       "\n",
       "    function showError(err) {\n",
       "      outputDiv.innerHTML = `<div class=\"error\" style=\"color:red;\">${err}</div>`;\n",
       "      throw err;\n",
       "    }\n",
       "\n",
       "    function displayChart(vegaEmbed) {\n",
       "      vegaEmbed(outputDiv, spec, embedOpt)\n",
       "        .catch(err => showError(`Javascript Error: ${err.message}<br>This usually means there's a typo in your chart specification. See the javascript console for the full traceback.`));\n",
       "    }\n",
       "\n",
       "    if(typeof define === \"function\" && define.amd) {\n",
       "      requirejs.config({paths});\n",
       "      require([\"vega-embed\"], displayChart, err => showError(`Error loading script: ${err.message}`));\n",
       "    } else if (typeof vegaEmbed === \"function\") {\n",
       "      displayChart(vegaEmbed);\n",
       "    } else {\n",
       "      loadScript(\"vega\")\n",
       "        .then(() => loadScript(\"vega-lite\"))\n",
       "        .then(() => loadScript(\"vega-embed\"))\n",
       "        .catch(showError)\n",
       "        .then(() => displayChart(vegaEmbed));\n",
       "    }\n",
       "  })({\"config\": {\"view\": {\"continuousWidth\": 400, \"continuousHeight\": 300}}, \"layer\": [{\"mark\": \"line\", \"encoding\": {\"x\": {\"type\": \"quantitative\", \"field\": \"epoch\"}, \"y\": {\"type\": \"quantitative\", \"field\": \"mse\", \"scale\": {\"clamp\": true, \"domain\": [0, 15]}}}, \"height\": 200, \"width\": 600}, {\"mark\": {\"type\": \"line\", \"color\": \"red\"}, \"encoding\": {\"x\": {\"type\": \"quantitative\", \"field\": \"epoch\"}, \"y\": {\"type\": \"quantitative\", \"field\": \"val_mse\", \"scale\": {\"domain\": [0, 15]}}}, \"height\": 200, \"width\": 600}], \"data\": {\"name\": \"data-bbf2a0ac775bc1f8410e921b3b7d495b\"}, \"$schema\": \"https://vega.github.io/schema/vega-lite/v4.8.1.json\", \"datasets\": {\"data-bbf2a0ac775bc1f8410e921b3b7d495b\": [{\"loss\": 1070.624267578125, \"mae\": 28.200204849243164, \"mse\": 1070.624267578125, \"val_loss\": 1619.2669677734375, \"val_mae\": 36.43113708496094, \"val_mse\": 1619.2669677734375, \"epoch\": 0}, {\"loss\": 985.8458251953125, \"mae\": 27.112831115722656, \"mse\": 985.8458251953125, \"val_loss\": 1515.5799560546875, \"val_mae\": 35.24225997924805, \"val_mse\": 1515.5799560546875, \"epoch\": 1}, {\"loss\": 927.1183471679688, \"mae\": 26.306774139404297, \"mse\": 927.1183471679688, \"val_loss\": 1432.2171630859375, \"val_mae\": 34.25652313232422, \"val_mse\": 1432.2171630859375, \"epoch\": 2}, {\"loss\": 879.3045043945312, \"mae\": 25.616531372070312, \"mse\": 879.3045043945312, \"val_loss\": 1361.2694091796875, \"val_mae\": 33.394683837890625, \"val_mse\": 1361.2694091796875, \"epoch\": 3}, {\"loss\": 837.4683227539062, \"mae\": 25.014616012573242, \"mse\": 837.4683227539062, \"val_loss\": 1296.81787109375, \"val_mae\": 32.592010498046875, \"val_mse\": 1296.81787109375, \"epoch\": 4}, {\"loss\": 799.4782104492188, \"mae\": 24.459522247314453, \"mse\": 799.4782104492188, \"val_loss\": 1237.176513671875, \"val_mae\": 31.83123779296875, \"val_mse\": 1237.176513671875, \"epoch\": 5}, {\"loss\": 764.2169799804688, \"mae\": 23.921768188476562, \"mse\": 764.2169799804688, \"val_loss\": 1181.974609375, \"val_mae\": 31.110523223876953, \"val_mse\": 1181.974609375, \"epoch\": 6}, {\"loss\": 731.52685546875, \"mae\": 23.40190887451172, \"mse\": 731.52685546875, \"val_loss\": 1129.9798583984375, \"val_mae\": 30.41606903076172, \"val_mse\": 1129.9798583984375, \"epoch\": 7}, {\"loss\": 700.2711181640625, \"mae\": 22.921695709228516, \"mse\": 700.2711181640625, \"val_loss\": 1080.0302734375, \"val_mae\": 29.733673095703125, \"val_mse\": 1080.0302734375, \"epoch\": 8}, {\"loss\": 670.4241943359375, \"mae\": 22.434377670288086, \"mse\": 670.4241943359375, \"val_loss\": 1032.1129150390625, \"val_mae\": 29.063995361328125, \"val_mse\": 1032.1129150390625, \"epoch\": 9}, {\"loss\": 641.974853515625, \"mae\": 21.952268600463867, \"mse\": 641.974853515625, \"val_loss\": 986.6243286132812, \"val_mae\": 28.413660049438477, \"val_mse\": 986.6243286132812, \"epoch\": 10}, {\"loss\": 614.4577026367188, \"mae\": 21.497093200683594, \"mse\": 614.4577026367188, \"val_loss\": 942.309814453125, \"val_mae\": 27.765483856201172, \"val_mse\": 942.309814453125, \"epoch\": 11}, {\"loss\": 588.1971435546875, \"mae\": 21.027507781982422, \"mse\": 588.1971435546875, \"val_loss\": 900.1261596679688, \"val_mae\": 27.13408660888672, \"val_mse\": 900.1261596679688, \"epoch\": 12}, {\"loss\": 562.5233154296875, \"mae\": 20.58222198486328, \"mse\": 562.5233154296875, \"val_loss\": 858.9180908203125, \"val_mae\": 26.502790451049805, \"val_mse\": 858.9180908203125, \"epoch\": 13}, {\"loss\": 537.6954956054688, \"mae\": 20.135608673095703, \"mse\": 537.6954956054688, \"val_loss\": 818.8204956054688, \"val_mae\": 25.87373161315918, \"val_mse\": 818.8204956054688, \"epoch\": 14}, {\"loss\": 513.543701171875, \"mae\": 19.691177368164062, \"mse\": 513.543701171875, \"val_loss\": 779.9820556640625, \"val_mae\": 25.249500274658203, \"val_mse\": 779.9820556640625, \"epoch\": 15}, {\"loss\": 490.14581298828125, \"mae\": 19.24054718017578, \"mse\": 490.14581298828125, \"val_loss\": 742.5569458007812, \"val_mae\": 24.63302993774414, \"val_mse\": 742.5569458007812, \"epoch\": 16}, {\"loss\": 467.6108093261719, \"mae\": 18.79952049255371, \"mse\": 467.6108093261719, \"val_loss\": 706.3392944335938, \"val_mae\": 24.02139663696289, \"val_mse\": 706.3392944335938, \"epoch\": 17}, {\"loss\": 445.6055603027344, \"mae\": 18.366790771484375, \"mse\": 445.6055603027344, \"val_loss\": 670.915771484375, \"val_mae\": 23.407733917236328, \"val_mse\": 670.915771484375, \"epoch\": 18}, {\"loss\": 424.1842956542969, \"mae\": 17.927227020263672, \"mse\": 424.1842956542969, \"val_loss\": 636.6961669921875, \"val_mae\": 22.79925537109375, \"val_mse\": 636.6961669921875, \"epoch\": 19}, {\"loss\": 403.51739501953125, \"mae\": 17.494918823242188, \"mse\": 403.51739501953125, \"val_loss\": 603.6182861328125, \"val_mae\": 22.19524383544922, \"val_mse\": 603.6182861328125, \"epoch\": 20}, {\"loss\": 383.58447265625, \"mae\": 17.074615478515625, \"mse\": 383.58447265625, \"val_loss\": 571.2696533203125, \"val_mae\": 21.588218688964844, \"val_mse\": 571.2696533203125, \"epoch\": 21}, {\"loss\": 363.7682189941406, \"mae\": 16.634328842163086, \"mse\": 363.7682189941406, \"val_loss\": 540.2218017578125, \"val_mae\": 20.989107131958008, \"val_mse\": 540.2218017578125, \"epoch\": 22}, {\"loss\": 344.89739990234375, \"mae\": 16.202411651611328, \"mse\": 344.89739990234375, \"val_loss\": 510.14593505859375, \"val_mae\": 20.391984939575195, \"val_mse\": 510.14593505859375, \"epoch\": 23}, {\"loss\": 326.5888671875, \"mae\": 15.781699180603027, \"mse\": 326.5888671875, \"val_loss\": 480.9244384765625, \"val_mae\": 19.794597625732422, \"val_mse\": 480.9244384765625, \"epoch\": 24}, {\"loss\": 308.8843688964844, \"mae\": 15.348394393920898, \"mse\": 308.8843688964844, \"val_loss\": 452.92230224609375, \"val_mae\": 19.20471954345703, \"val_mse\": 452.92230224609375, \"epoch\": 25}, {\"loss\": 291.7091064453125, \"mae\": 14.932512283325195, \"mse\": 291.7091064453125, \"val_loss\": 425.7137451171875, \"val_mae\": 18.613676071166992, \"val_mse\": 425.7137451171875, \"epoch\": 26}, {\"loss\": 275.0919189453125, \"mae\": 14.511161804199219, \"mse\": 275.0919189453125, \"val_loss\": 399.446044921875, \"val_mae\": 18.02471160888672, \"val_mse\": 399.446044921875, \"epoch\": 27}, {\"loss\": 259.0146179199219, \"mae\": 14.08442497253418, \"mse\": 259.0146179199219, \"val_loss\": 374.095458984375, \"val_mae\": 17.437471389770508, \"val_mse\": 374.095458984375, \"epoch\": 28}, {\"loss\": 243.52586364746094, \"mae\": 13.667448043823242, \"mse\": 243.52586364746094, \"val_loss\": 349.73394775390625, \"val_mae\": 16.85388946533203, \"val_mse\": 349.73394775390625, \"epoch\": 29}, {\"loss\": 228.54837036132812, \"mae\": 13.25092887878418, \"mse\": 228.54837036132812, \"val_loss\": 326.2554931640625, \"val_mae\": 16.271686553955078, \"val_mse\": 326.2554931640625, \"epoch\": 30}, {\"loss\": 214.08047485351562, \"mae\": 12.84350872039795, \"mse\": 214.08047485351562, \"val_loss\": 303.5743408203125, \"val_mae\": 15.688775062561035, \"val_mse\": 303.5743408203125, \"epoch\": 31}, {\"loss\": 200.11502075195312, \"mae\": 12.424964904785156, \"mse\": 200.11502075195312, \"val_loss\": 281.8727722167969, \"val_mae\": 15.11002254486084, \"val_mse\": 281.8727722167969, \"epoch\": 32}, {\"loss\": 186.73947143554688, \"mae\": 12.01413345336914, \"mse\": 186.73947143554688, \"val_loss\": 261.02197265625, \"val_mae\": 14.5322847366333, \"val_mse\": 261.02197265625, \"epoch\": 33}, {\"loss\": 173.84539794921875, \"mae\": 11.600505828857422, \"mse\": 173.84539794921875, \"val_loss\": 241.11532592773438, \"val_mae\": 13.958436965942383, \"val_mse\": 241.11532592773438, \"epoch\": 34}, {\"loss\": 161.5616455078125, \"mae\": 11.185154914855957, \"mse\": 161.5616455078125, \"val_loss\": 222.27577209472656, \"val_mae\": 13.392744064331055, \"val_mse\": 222.27577209472656, \"epoch\": 35}, {\"loss\": 149.81027221679688, \"mae\": 10.784337997436523, \"mse\": 149.81027221679688, \"val_loss\": 204.24105834960938, \"val_mae\": 12.827899932861328, \"val_mse\": 204.24105834960938, \"epoch\": 36}, {\"loss\": 138.57443237304688, \"mae\": 10.38528823852539, \"mse\": 138.57443237304688, \"val_loss\": 187.00100708007812, \"val_mae\": 12.263677597045898, \"val_mse\": 187.00100708007812, \"epoch\": 37}, {\"loss\": 127.99895477294922, \"mae\": 9.978910446166992, \"mse\": 127.99895477294922, \"val_loss\": 170.91461181640625, \"val_mae\": 11.712749481201172, \"val_mse\": 170.91461181640625, \"epoch\": 38}, {\"loss\": 117.77875518798828, \"mae\": 9.58672046661377, \"mse\": 117.77875518798828, \"val_loss\": 155.56167602539062, \"val_mae\": 11.161643981933594, \"val_mse\": 155.56167602539062, \"epoch\": 39}, {\"loss\": 108.07627868652344, \"mae\": 9.197103500366211, \"mse\": 108.07627868652344, \"val_loss\": 140.95928955078125, \"val_mae\": 10.610997200012207, \"val_mse\": 140.95928955078125, \"epoch\": 40}, {\"loss\": 98.972900390625, \"mae\": 8.801857948303223, \"mse\": 98.972900390625, \"val_loss\": 127.33570861816406, \"val_mae\": 10.070182800292969, \"val_mse\": 127.33570861816406, \"epoch\": 41}, {\"loss\": 90.2418212890625, \"mae\": 8.423994064331055, \"mse\": 90.2418212890625, \"val_loss\": 114.39246368408203, \"val_mae\": 9.528032302856445, \"val_mse\": 114.39246368408203, \"epoch\": 42}, {\"loss\": 82.04229736328125, \"mae\": 8.036966323852539, \"mse\": 82.04229736328125, \"val_loss\": 102.25172424316406, \"val_mae\": 9.00861930847168, \"val_mse\": 102.25172424316406, \"epoch\": 43}, {\"loss\": 74.30180358886719, \"mae\": 7.650082111358643, \"mse\": 74.30180358886719, \"val_loss\": 91.05674743652344, \"val_mae\": 8.503582000732422, \"val_mse\": 91.05674743652344, \"epoch\": 44}, {\"loss\": 67.10960388183594, \"mae\": 7.273935794830322, \"mse\": 67.10960388183594, \"val_loss\": 80.6365966796875, \"val_mae\": 8.003538131713867, \"val_mse\": 80.6365966796875, \"epoch\": 45}, {\"loss\": 60.349647521972656, \"mae\": 6.900796890258789, \"mse\": 60.349647521972656, \"val_loss\": 70.97078704833984, \"val_mae\": 7.508448600769043, \"val_mse\": 70.97078704833984, \"epoch\": 46}, {\"loss\": 54.04275131225586, \"mae\": 6.535918235778809, \"mse\": 54.04275131225586, \"val_loss\": 62.017303466796875, \"val_mae\": 7.017030715942383, \"val_mse\": 62.017303466796875, \"epoch\": 47}, {\"loss\": 48.21697998046875, \"mae\": 6.168326377868652, \"mse\": 48.21697998046875, \"val_loss\": 53.86912536621094, \"val_mae\": 6.53587007522583, \"val_mse\": 53.86912536621094, \"epoch\": 48}, {\"loss\": 42.79714584350586, \"mae\": 5.809695243835449, \"mse\": 42.79714584350586, \"val_loss\": 46.40574645996094, \"val_mae\": 6.0595598220825195, \"val_mse\": 46.40574645996094, \"epoch\": 49}, {\"loss\": 37.84485626220703, \"mae\": 5.458759784698486, \"mse\": 37.84485626220703, \"val_loss\": 39.6756477355957, \"val_mae\": 5.592938423156738, \"val_mse\": 39.6756477355957, \"epoch\": 50}, {\"loss\": 33.342430114746094, \"mae\": 5.112242698669434, \"mse\": 33.342430114746094, \"val_loss\": 33.659000396728516, \"val_mae\": 5.137276649475098, \"val_mse\": 33.659000396728516, \"epoch\": 51}, {\"loss\": 29.22997283935547, \"mae\": 4.781242370605469, \"mse\": 29.22997283935547, \"val_loss\": 28.29945182800293, \"val_mae\": 4.691112995147705, \"val_mse\": 28.29945182800293, \"epoch\": 52}, {\"loss\": 25.4620304107666, \"mae\": 4.460537433624268, \"mse\": 25.4620304107666, \"val_loss\": 23.52578353881836, \"val_mae\": 4.254115104675293, \"val_mse\": 23.52578353881836, \"epoch\": 53}, {\"loss\": 22.109130859375, \"mae\": 4.142694473266602, \"mse\": 22.109130859375, \"val_loss\": 19.35643196105957, \"val_mae\": 3.8412461280822754, \"val_mse\": 19.35643196105957, \"epoch\": 54}, {\"loss\": 19.15534210205078, \"mae\": 3.8214056491851807, \"mse\": 19.15534210205078, \"val_loss\": 15.833076477050781, \"val_mae\": 3.447159767150879, \"val_mse\": 15.833076477050781, \"epoch\": 55}, {\"loss\": 16.51251983642578, \"mae\": 3.5183653831481934, \"mse\": 16.51251983642578, \"val_loss\": 12.833927154541016, \"val_mae\": 3.0669565200805664, \"val_mse\": 12.833927154541016, \"epoch\": 56}, {\"loss\": 14.265586853027344, \"mae\": 3.2370457649230957, \"mse\": 14.265586853027344, \"val_loss\": 10.346370697021484, \"val_mae\": 2.785942554473877, \"val_mse\": 10.346370697021484, \"epoch\": 57}, {\"loss\": 12.26644515991211, \"mae\": 2.967837333679199, \"mse\": 12.26644515991211, \"val_loss\": 8.31174373626709, \"val_mae\": 2.5627565383911133, \"val_mse\": 8.31174373626709, \"epoch\": 58}, {\"loss\": 10.586612701416016, \"mae\": 2.742292881011963, \"mse\": 10.586612701416016, \"val_loss\": 6.716763496398926, \"val_mae\": 2.3506999015808105, \"val_mse\": 6.716763496398926, \"epoch\": 59}, {\"loss\": 9.186347961425781, \"mae\": 2.5266764163970947, \"mse\": 9.186347961425781, \"val_loss\": 5.507291316986084, \"val_mae\": 2.149346351623535, \"val_mse\": 5.507291316986084, \"epoch\": 60}, {\"loss\": 8.027400016784668, \"mae\": 2.340226650238037, \"mse\": 8.027400016784668, \"val_loss\": 4.63242244720459, \"val_mae\": 1.9577856063842773, \"val_mse\": 4.63242244720459, \"epoch\": 61}, {\"loss\": 7.126826763153076, \"mae\": 2.169139862060547, \"mse\": 7.126826763153076, \"val_loss\": 4.078859329223633, \"val_mae\": 1.8191635608673096, \"val_mse\": 4.078859329223633, \"epoch\": 62}, {\"loss\": 6.381130218505859, \"mae\": 2.0333356857299805, \"mse\": 6.381130218505859, \"val_loss\": 3.749967098236084, \"val_mae\": 1.7002699375152588, \"val_mse\": 3.749967098236084, \"epoch\": 63}, {\"loss\": 5.810524940490723, \"mae\": 1.9275747537612915, \"mse\": 5.810524940490723, \"val_loss\": 3.622077465057373, \"val_mae\": 1.595668077468872, \"val_mse\": 3.622077465057373, \"epoch\": 64}, {\"loss\": 5.404109001159668, \"mae\": 1.8486162424087524, \"mse\": 5.404109001159668, \"val_loss\": 3.6373887062072754, \"val_mae\": 1.5000314712524414, \"val_mse\": 3.6373887062072754, \"epoch\": 65}, {\"loss\": 5.112748146057129, \"mae\": 1.793265461921692, \"mse\": 5.112748146057129, \"val_loss\": 3.7484846115112305, \"val_mae\": 1.4509661197662354, \"val_mse\": 3.7484846115112305, \"epoch\": 66}, {\"loss\": 4.93079948425293, \"mae\": 1.7681163549423218, \"mse\": 4.93079948425293, \"val_loss\": 3.898496389389038, \"val_mae\": 1.4661269187927246, \"val_mse\": 3.898496389389038, \"epoch\": 67}, {\"loss\": 4.854336261749268, \"mae\": 1.752120018005371, \"mse\": 4.854336261749268, \"val_loss\": 4.054628372192383, \"val_mae\": 1.497819185256958, \"val_mse\": 4.054628372192383, \"epoch\": 68}, {\"loss\": 4.734846591949463, \"mae\": 1.7376713752746582, \"mse\": 4.734846591949463, \"val_loss\": 4.230130672454834, \"val_mae\": 1.5324797630310059, \"val_mse\": 4.230130672454834, \"epoch\": 69}, {\"loss\": 4.709400653839111, \"mae\": 1.7312567234039307, \"mse\": 4.709400653839111, \"val_loss\": 4.361841678619385, \"val_mae\": 1.5553152561187744, \"val_mse\": 4.361841678619385, \"epoch\": 70}, {\"loss\": 4.638689994812012, \"mae\": 1.7215707302093506, \"mse\": 4.638689994812012, \"val_loss\": 4.528502464294434, \"val_mae\": 1.5814979076385498, \"val_mse\": 4.528502464294434, \"epoch\": 71}, {\"loss\": 4.630836009979248, \"mae\": 1.7226818799972534, \"mse\": 4.630836009979248, \"val_loss\": 4.616024017333984, \"val_mae\": 1.5942713022232056, \"val_mse\": 4.616024017333984, \"epoch\": 72}, {\"loss\": 4.690030097961426, \"mae\": 1.7396433353424072, \"mse\": 4.690030097961426, \"val_loss\": 4.620691299438477, \"val_mae\": 1.5948975086212158, \"val_mse\": 4.620691299438477, \"epoch\": 73}, {\"loss\": 4.689950942993164, \"mae\": 1.7348637580871582, \"mse\": 4.689950942993164, \"val_loss\": 4.601070880889893, \"val_mae\": 1.5920352935791016, \"val_mse\": 4.601070880889893, \"epoch\": 74}, {\"loss\": 4.641901969909668, \"mae\": 1.7247910499572754, \"mse\": 4.641901969909668, \"val_loss\": 4.630292892456055, \"val_mae\": 1.5961695909500122, \"val_mse\": 4.630292892456055, \"epoch\": 75}, {\"loss\": 4.66380500793457, \"mae\": 1.7263596057891846, \"mse\": 4.66380500793457, \"val_loss\": 4.641005516052246, \"val_mae\": 1.5976340770721436, \"val_mse\": 4.641005516052246, \"epoch\": 76}, {\"loss\": 4.594036102294922, \"mae\": 1.7194643020629883, \"mse\": 4.594036102294922, \"val_loss\": 4.771001815795898, \"val_mae\": 1.6154108047485352, \"val_mse\": 4.771001815795898, \"epoch\": 77}, {\"loss\": 4.665076732635498, \"mae\": 1.7383153438568115, \"mse\": 4.665076732635498, \"val_loss\": 5.014928340911865, \"val_mae\": 1.6462996006011963, \"val_mse\": 5.014928340911865, \"epoch\": 78}, {\"loss\": 4.640294075012207, \"mae\": 1.7306880950927734, \"mse\": 4.640294075012207, \"val_loss\": 5.045765399932861, \"val_mae\": 1.6499502658843994, \"val_mse\": 5.045765399932861, \"epoch\": 79}, {\"loss\": 4.581626892089844, \"mae\": 1.7173635959625244, \"mse\": 4.581626892089844, \"val_loss\": 4.938884735107422, \"val_mae\": 1.636831283569336, \"val_mse\": 4.938884735107422, \"epoch\": 80}, {\"loss\": 4.573692321777344, \"mae\": 1.7162009477615356, \"mse\": 4.573692321777344, \"val_loss\": 4.88070821762085, \"val_mae\": 1.6294326782226562, \"val_mse\": 4.88070821762085, \"epoch\": 81}, {\"loss\": 4.635712623596191, \"mae\": 1.7295901775360107, \"mse\": 4.635712623596191, \"val_loss\": 4.623114585876465, \"val_mae\": 1.5946699380874634, \"val_mse\": 4.623114585876465, \"epoch\": 82}, {\"loss\": 4.580698490142822, \"mae\": 1.7110748291015625, \"mse\": 4.580698490142822, \"val_loss\": 4.710923194885254, \"val_mae\": 1.6068565845489502, \"val_mse\": 4.710923194885254, \"epoch\": 83}, {\"loss\": 4.618334770202637, \"mae\": 1.7179090976715088, \"mse\": 4.618334770202637, \"val_loss\": 5.102545261383057, \"val_mae\": 1.6563091278076172, \"val_mse\": 5.102545261383057, \"epoch\": 84}, {\"loss\": 4.6401238441467285, \"mae\": 1.7280128002166748, \"mse\": 4.6401238441467285, \"val_loss\": 4.583713054656982, \"val_mae\": 1.5887157917022705, \"val_mse\": 4.583713054656982, \"epoch\": 85}, {\"loss\": 4.557703018188477, \"mae\": 1.7122793197631836, \"mse\": 4.557703018188477, \"val_loss\": 4.91883659362793, \"val_mae\": 1.6338250637054443, \"val_mse\": 4.91883659362793, \"epoch\": 86}, {\"loss\": 4.658597946166992, \"mae\": 1.7182371616363525, \"mse\": 4.658597946166992, \"val_loss\": 5.230701446533203, \"val_mae\": 1.6707959175109863, \"val_mse\": 5.230701446533203, \"epoch\": 87}, {\"loss\": 4.674193382263184, \"mae\": 1.7282780408859253, \"mse\": 4.674193382263184, \"val_loss\": 5.346630096435547, \"val_mae\": 1.6835533380508423, \"val_mse\": 5.346630096435547, \"epoch\": 88}, {\"loss\": 4.550675868988037, \"mae\": 1.7128243446350098, \"mse\": 4.550675868988037, \"val_loss\": 4.738882541656494, \"val_mae\": 1.6100760698318481, \"val_mse\": 4.738882541656494, \"epoch\": 89}, {\"loss\": 4.556412696838379, \"mae\": 1.7140376567840576, \"mse\": 4.556412696838379, \"val_loss\": 4.612418174743652, \"val_mae\": 1.5923328399658203, \"val_mse\": 4.612418174743652, \"epoch\": 90}, {\"loss\": 4.59404993057251, \"mae\": 1.711052656173706, \"mse\": 4.59404993057251, \"val_loss\": 5.2947282791137695, \"val_mae\": 1.6775562763214111, \"val_mse\": 5.2947282791137695, \"epoch\": 91}, {\"loss\": 4.526805400848389, \"mae\": 1.7082982063293457, \"mse\": 4.526805400848389, \"val_loss\": 4.780173301696777, \"val_mae\": 1.615278720855713, \"val_mse\": 4.780173301696777, \"epoch\": 92}, {\"loss\": 4.511625289916992, \"mae\": 1.7043004035949707, \"mse\": 4.511625289916992, \"val_loss\": 4.807259559631348, \"val_mae\": 1.618741512298584, \"val_mse\": 4.807259559631348, \"epoch\": 93}, {\"loss\": 4.520740509033203, \"mae\": 1.7015175819396973, \"mse\": 4.520740509033203, \"val_loss\": 5.089150428771973, \"val_mae\": 1.6537199020385742, \"val_mse\": 5.089150428771973, \"epoch\": 94}, {\"loss\": 4.507824420928955, \"mae\": 1.7050442695617676, \"mse\": 4.507824420928955, \"val_loss\": 4.564879417419434, \"val_mae\": 1.5847795009613037, \"val_mse\": 4.564879417419434, \"epoch\": 95}, {\"loss\": 4.497241020202637, \"mae\": 1.7029473781585693, \"mse\": 4.497241020202637, \"val_loss\": 5.050699234008789, \"val_mae\": 1.6488909721374512, \"val_mse\": 5.050699234008789, \"epoch\": 96}, {\"loss\": 4.5515289306640625, \"mae\": 1.7116734981536865, \"mse\": 4.5515289306640625, \"val_loss\": 5.383350849151611, \"val_mae\": 1.6865551471710205, \"val_mse\": 5.383350849151611, \"epoch\": 97}, {\"loss\": 4.570145606994629, \"mae\": 1.709803581237793, \"mse\": 4.570145606994629, \"val_loss\": 5.3927130699157715, \"val_mae\": 1.6874401569366455, \"val_mse\": 5.3927130699157715, \"epoch\": 98}, {\"loss\": 4.745450019836426, \"mae\": 1.7365126609802246, \"mse\": 4.745450019836426, \"val_loss\": 4.313508987426758, \"val_mae\": 1.5442497730255127, \"val_mse\": 4.313508987426758, \"epoch\": 99}]}}, {\"mode\": \"vega-lite\"});\n",
       "</script>"
      ],
      "text/plain": [
       "alt.LayerChart(...)"
      ]
     },
     "execution_count": 139,
     "metadata": {},
     "output_type": "execute_result"
    }
   ],
   "source": [
    "train_error = alt.Chart(hist,height=200,width=600).mark_line().encode(alt.X('epoch'),alt.Y('mse',scale=alt.Scale(domain=[0,15],clamp=True)))\n",
    "val_error = alt.Chart(hist,height=200,width=600).mark_line(color='red').encode(alt.X('epoch'),alt.Y('val_mse',scale=alt.Scale(domain=[0,15])))\n",
    "\n",
    "train_error + val_error"
   ]
  },
  {
   "cell_type": "markdown",
   "metadata": {},
   "source": [
    "### Use callback to stop training when validation score stop improving"
   ]
  },
  {
   "cell_type": "code",
   "execution_count": 141,
   "metadata": {},
   "outputs": [
    {
     "name": "stdout",
     "output_type": "stream",
     "text": [
      "WARNING:tensorflow:Layer build_model_17 is casting an input tensor from dtype float64 to the layer's dtype of float32, which is new behavior in TensorFlow 2.  The layer has dtype float32 because its dtype defaults to floatx.\n",
      "\n",
      "If you intended to run this layer in float32, you can safely ignore this warning. If in doubt, this warning is likely only an issue if you are porting a TensorFlow 1.X model to TensorFlow 2.\n",
      "\n",
      "To change all layers to have dtype float64 by default, call `tf.keras.backend.set_floatx('float64')`. To change just this layer, pass dtype='float64' to the layer constructor. If you are the author of this layer, you can disable autocasting by passing autocast=False to the base Layer constructor.\n",
      "\n"
     ]
    }
   ],
   "source": [
    "\n",
    "model = build_model(2,10,1, activation='relu')\n",
    "\n",
    "model.compile(optimizer = tf.keras.optimizers.RMSprop(0.001),\n",
    "             loss = 'mse',\n",
    "             metrics = ['mae','mse'])\n",
    "\n",
    "early_stop = tf.keras.callbacks.EarlyStopping(monitor='val_loss',patience=10)\n",
    "history = model.fit(train_dataset, train_labels, epochs=100, validation_split = 0.2, verbose=0,callbacks=[early_stop])"
   ]
  },
  {
   "cell_type": "code",
   "execution_count": 143,
   "metadata": {},
   "outputs": [
    {
     "data": {
      "text/html": [
       "<div>\n",
       "<style scoped>\n",
       "    .dataframe tbody tr th:only-of-type {\n",
       "        vertical-align: middle;\n",
       "    }\n",
       "\n",
       "    .dataframe tbody tr th {\n",
       "        vertical-align: top;\n",
       "    }\n",
       "\n",
       "    .dataframe thead th {\n",
       "        text-align: right;\n",
       "    }\n",
       "</style>\n",
       "<table border=\"1\" class=\"dataframe\">\n",
       "  <thead>\n",
       "    <tr style=\"text-align: right;\">\n",
       "      <th></th>\n",
       "      <th>loss</th>\n",
       "      <th>mae</th>\n",
       "      <th>mse</th>\n",
       "      <th>val_loss</th>\n",
       "      <th>val_mae</th>\n",
       "      <th>val_mse</th>\n",
       "      <th>epoch</th>\n",
       "    </tr>\n",
       "  </thead>\n",
       "  <tbody>\n",
       "    <tr>\n",
       "      <th>70</th>\n",
       "      <td>4.714280</td>\n",
       "      <td>1.733771</td>\n",
       "      <td>4.714280</td>\n",
       "      <td>4.414337</td>\n",
       "      <td>1.564279</td>\n",
       "      <td>4.414337</td>\n",
       "      <td>70</td>\n",
       "    </tr>\n",
       "    <tr>\n",
       "      <th>71</th>\n",
       "      <td>4.649673</td>\n",
       "      <td>1.724577</td>\n",
       "      <td>4.649673</td>\n",
       "      <td>4.567097</td>\n",
       "      <td>1.587623</td>\n",
       "      <td>4.567097</td>\n",
       "      <td>71</td>\n",
       "    </tr>\n",
       "    <tr>\n",
       "      <th>72</th>\n",
       "      <td>4.644649</td>\n",
       "      <td>1.725522</td>\n",
       "      <td>4.644649</td>\n",
       "      <td>4.645074</td>\n",
       "      <td>1.598798</td>\n",
       "      <td>4.645074</td>\n",
       "      <td>72</td>\n",
       "    </tr>\n",
       "    <tr>\n",
       "      <th>73</th>\n",
       "      <td>4.702233</td>\n",
       "      <td>1.741798</td>\n",
       "      <td>4.702233</td>\n",
       "      <td>4.647792</td>\n",
       "      <td>1.599140</td>\n",
       "      <td>4.647792</td>\n",
       "      <td>73</td>\n",
       "    </tr>\n",
       "    <tr>\n",
       "      <th>74</th>\n",
       "      <td>4.701767</td>\n",
       "      <td>1.737247</td>\n",
       "      <td>4.701767</td>\n",
       "      <td>4.629227</td>\n",
       "      <td>1.596470</td>\n",
       "      <td>4.629227</td>\n",
       "      <td>74</td>\n",
       "    </tr>\n",
       "  </tbody>\n",
       "</table>\n",
       "</div>"
      ],
      "text/plain": [
       "        loss       mae       mse  val_loss   val_mae   val_mse  epoch\n",
       "70  4.714280  1.733771  4.714280  4.414337  1.564279  4.414337     70\n",
       "71  4.649673  1.724577  4.649673  4.567097  1.587623  4.567097     71\n",
       "72  4.644649  1.725522  4.644649  4.645074  1.598798  4.645074     72\n",
       "73  4.702233  1.741798  4.702233  4.647792  1.599140  4.647792     73\n",
       "74  4.701767  1.737247  4.701767  4.629227  1.596470  4.629227     74"
      ]
     },
     "execution_count": 143,
     "metadata": {},
     "output_type": "execute_result"
    }
   ],
   "source": [
    "hist = pd.DataFrame(history.history)\n",
    "hist['epoch'] = history.epoch\n",
    "hist.tail()"
   ]
  },
  {
   "cell_type": "code",
   "execution_count": 144,
   "metadata": {},
   "outputs": [
    {
     "data": {
      "text/html": [
       "\n",
       "<div id=\"altair-viz-f598a2f339c54830bf327f938c6ad96c\"></div>\n",
       "<script type=\"text/javascript\">\n",
       "  (function(spec, embedOpt){\n",
       "    let outputDiv = document.currentScript.previousElementSibling;\n",
       "    if (outputDiv.id !== \"altair-viz-f598a2f339c54830bf327f938c6ad96c\") {\n",
       "      outputDiv = document.getElementById(\"altair-viz-f598a2f339c54830bf327f938c6ad96c\");\n",
       "    }\n",
       "    const paths = {\n",
       "      \"vega\": \"https://cdn.jsdelivr.net/npm//vega@5?noext\",\n",
       "      \"vega-lib\": \"https://cdn.jsdelivr.net/npm//vega-lib?noext\",\n",
       "      \"vega-lite\": \"https://cdn.jsdelivr.net/npm//vega-lite@4.8.1?noext\",\n",
       "      \"vega-embed\": \"https://cdn.jsdelivr.net/npm//vega-embed@6?noext\",\n",
       "    };\n",
       "\n",
       "    function loadScript(lib) {\n",
       "      return new Promise(function(resolve, reject) {\n",
       "        var s = document.createElement('script');\n",
       "        s.src = paths[lib];\n",
       "        s.async = true;\n",
       "        s.onload = () => resolve(paths[lib]);\n",
       "        s.onerror = () => reject(`Error loading script: ${paths[lib]}`);\n",
       "        document.getElementsByTagName(\"head\")[0].appendChild(s);\n",
       "      });\n",
       "    }\n",
       "\n",
       "    function showError(err) {\n",
       "      outputDiv.innerHTML = `<div class=\"error\" style=\"color:red;\">${err}</div>`;\n",
       "      throw err;\n",
       "    }\n",
       "\n",
       "    function displayChart(vegaEmbed) {\n",
       "      vegaEmbed(outputDiv, spec, embedOpt)\n",
       "        .catch(err => showError(`Javascript Error: ${err.message}<br>This usually means there's a typo in your chart specification. See the javascript console for the full traceback.`));\n",
       "    }\n",
       "\n",
       "    if(typeof define === \"function\" && define.amd) {\n",
       "      requirejs.config({paths});\n",
       "      require([\"vega-embed\"], displayChart, err => showError(`Error loading script: ${err.message}`));\n",
       "    } else if (typeof vegaEmbed === \"function\") {\n",
       "      displayChart(vegaEmbed);\n",
       "    } else {\n",
       "      loadScript(\"vega\")\n",
       "        .then(() => loadScript(\"vega-lite\"))\n",
       "        .then(() => loadScript(\"vega-embed\"))\n",
       "        .catch(showError)\n",
       "        .then(() => displayChart(vegaEmbed));\n",
       "    }\n",
       "  })({\"config\": {\"view\": {\"continuousWidth\": 400, \"continuousHeight\": 300}}, \"layer\": [{\"mark\": \"line\", \"encoding\": {\"x\": {\"type\": \"quantitative\", \"field\": \"epoch\"}, \"y\": {\"type\": \"quantitative\", \"field\": \"mae\", \"scale\": {\"clamp\": true, \"domain\": [0, 15]}}}, \"height\": 200, \"width\": 600}, {\"mark\": {\"type\": \"line\", \"color\": \"red\"}, \"encoding\": {\"x\": {\"type\": \"quantitative\", \"field\": \"epoch\"}, \"y\": {\"type\": \"quantitative\", \"field\": \"val_mae\", \"scale\": {\"domain\": [0, 15]}}}, \"height\": 200, \"width\": 600}], \"data\": {\"name\": \"data-ce9f840b09291bba0f39aa8252749949\"}, \"$schema\": \"https://vega.github.io/schema/vega-lite/v4.8.1.json\", \"datasets\": {\"data-ce9f840b09291bba0f39aa8252749949\": [{\"loss\": 716.9025268554688, \"mae\": 23.17594337463379, \"mse\": 716.9025268554688, \"val_loss\": 1069.5770263671875, \"val_mae\": 29.602275848388672, \"val_mse\": 1069.5770263671875, \"epoch\": 0}, {\"loss\": 660.9896850585938, \"mae\": 22.299219131469727, \"mse\": 660.9896850585938, \"val_loss\": 1001.30517578125, \"val_mae\": 28.638198852539062, \"val_mse\": 1001.30517578125, \"epoch\": 1}, {\"loss\": 621.9986572265625, \"mae\": 21.644184112548828, \"mse\": 621.9986572265625, \"val_loss\": 946.1927490234375, \"val_mae\": 27.83560562133789, \"val_mse\": 946.1927490234375, \"epoch\": 2}, {\"loss\": 590.11767578125, \"mae\": 21.08142852783203, \"mse\": 590.11767578125, \"val_loss\": 899.122314453125, \"val_mae\": 27.13133430480957, \"val_mse\": 899.122314453125, \"epoch\": 3}, {\"loss\": 562.1293334960938, \"mae\": 20.58859634399414, \"mse\": 562.1293334960938, \"val_loss\": 856.2435913085938, \"val_mae\": 26.473491668701172, \"val_mse\": 856.2435913085938, \"epoch\": 4}, {\"loss\": 536.6380615234375, \"mae\": 20.13296127319336, \"mse\": 536.6380615234375, \"val_loss\": 816.4667358398438, \"val_mae\": 25.848281860351562, \"val_mse\": 816.4667358398438, \"epoch\": 5}, {\"loss\": 512.9146728515625, \"mae\": 19.690555572509766, \"mse\": 512.9146728515625, \"val_loss\": 779.5648193359375, \"val_mae\": 25.25442886352539, \"val_mse\": 779.5648193359375, \"epoch\": 6}, {\"loss\": 490.873046875, \"mae\": 19.261363983154297, \"mse\": 490.873046875, \"val_loss\": 744.7449340820312, \"val_mae\": 24.680980682373047, \"val_mse\": 744.7449340820312, \"epoch\": 7}, {\"loss\": 469.7520446777344, \"mae\": 18.864547729492188, \"mse\": 469.7520446777344, \"val_loss\": 711.2262573242188, \"val_mae\": 24.116100311279297, \"val_mse\": 711.2262573242188, \"epoch\": 8}, {\"loss\": 449.5404968261719, \"mae\": 18.459945678710938, \"mse\": 449.5404968261719, \"val_loss\": 679.02783203125, \"val_mae\": 23.560726165771484, \"val_mse\": 679.02783203125, \"epoch\": 9}, {\"loss\": 430.2431640625, \"mae\": 18.06031036376953, \"mse\": 430.2431640625, \"val_loss\": 648.4020385742188, \"val_mae\": 23.020050048828125, \"val_mse\": 648.4020385742188, \"epoch\": 10}, {\"loss\": 411.5478210449219, \"mae\": 17.681350708007812, \"mse\": 411.5478210449219, \"val_loss\": 618.5282592773438, \"val_mae\": 22.480133056640625, \"val_mse\": 618.5282592773438, \"epoch\": 11}, {\"loss\": 393.6763610839844, \"mae\": 17.289491653442383, \"mse\": 393.6763610839844, \"val_loss\": 590.063232421875, \"val_mae\": 21.953323364257812, \"val_mse\": 590.063232421875, \"epoch\": 12}, {\"loss\": 376.1783752441406, \"mae\": 16.91781234741211, \"mse\": 376.1783752441406, \"val_loss\": 562.2156982421875, \"val_mae\": 21.425426483154297, \"val_mse\": 562.2156982421875, \"epoch\": 13}, {\"loss\": 359.23358154296875, \"mae\": 16.543310165405273, \"mse\": 359.23358154296875, \"val_loss\": 535.0977783203125, \"val_mae\": 20.898555755615234, \"val_mse\": 535.0977783203125, \"epoch\": 14}, {\"loss\": 342.735595703125, \"mae\": 16.171255111694336, \"mse\": 342.735595703125, \"val_loss\": 508.80120849609375, \"val_mae\": 20.374645233154297, \"val_mse\": 508.80120849609375, \"epoch\": 15}, {\"loss\": 326.7216796875, \"mae\": 15.7927827835083, \"mse\": 326.7216796875, \"val_loss\": 483.43658447265625, \"val_mae\": 19.856212615966797, \"val_mse\": 483.43658447265625, \"epoch\": 16}, {\"loss\": 311.2890625, \"mae\": 15.421140670776367, \"mse\": 311.2890625, \"val_loss\": 458.8800048828125, \"val_mae\": 19.3410701751709, \"val_mse\": 458.8800048828125, \"epoch\": 17}, {\"loss\": 296.208740234375, \"mae\": 15.056642532348633, \"mse\": 296.208740234375, \"val_loss\": 434.8443298339844, \"val_mae\": 18.82321548461914, \"val_mse\": 434.8443298339844, \"epoch\": 18}, {\"loss\": 281.5145263671875, \"mae\": 14.685711860656738, \"mse\": 281.5145263671875, \"val_loss\": 411.6348876953125, \"val_mae\": 18.310338973999023, \"val_mse\": 411.6348876953125, \"epoch\": 19}, {\"loss\": 267.39581298828125, \"mae\": 14.322704315185547, \"mse\": 267.39581298828125, \"val_loss\": 390.0538635253906, \"val_mae\": 17.82180404663086, \"val_mse\": 390.0538635253906, \"epoch\": 20}, {\"loss\": 254.59814453125, \"mae\": 13.991827011108398, \"mse\": 254.59814453125, \"val_loss\": 370.1417541503906, \"val_mae\": 17.3563232421875, \"val_mse\": 370.1417541503906, \"epoch\": 21}, {\"loss\": 242.24078369140625, \"mae\": 13.654216766357422, \"mse\": 242.24078369140625, \"val_loss\": 350.91754150390625, \"val_mae\": 16.894763946533203, \"val_mse\": 350.91754150390625, \"epoch\": 22}, {\"loss\": 230.39727783203125, \"mae\": 13.320396423339844, \"mse\": 230.39727783203125, \"val_loss\": 332.20440673828125, \"val_mae\": 16.43303680419922, \"val_mse\": 332.20440673828125, \"epoch\": 23}, {\"loss\": 218.8450927734375, \"mae\": 12.994715690612793, \"mse\": 218.8450927734375, \"val_loss\": 313.9309387207031, \"val_mae\": 15.969287872314453, \"val_mse\": 313.9309387207031, \"epoch\": 24}, {\"loss\": 207.62225341796875, \"mae\": 12.657575607299805, \"mse\": 207.62225341796875, \"val_loss\": 296.34588623046875, \"val_mae\": 15.509927749633789, \"val_mse\": 296.34588623046875, \"epoch\": 25}, {\"loss\": 196.6780548095703, \"mae\": 12.333314895629883, \"mse\": 196.6780548095703, \"val_loss\": 279.1806335449219, \"val_mae\": 15.048025131225586, \"val_mse\": 279.1806335449219, \"epoch\": 26}, {\"loss\": 186.03988647460938, \"mae\": 12.003777503967285, \"mse\": 186.03988647460938, \"val_loss\": 262.5364685058594, \"val_mae\": 14.586193084716797, \"val_mse\": 262.5364685058594, \"epoch\": 27}, {\"loss\": 175.70237731933594, \"mae\": 11.668355941772461, \"mse\": 175.70237731933594, \"val_loss\": 246.4122772216797, \"val_mae\": 14.12440299987793, \"val_mse\": 246.4122772216797, \"epoch\": 28}, {\"loss\": 165.69630432128906, \"mae\": 11.340527534484863, \"mse\": 165.69630432128906, \"val_loss\": 230.85069274902344, \"val_mae\": 13.663946151733398, \"val_mse\": 230.85069274902344, \"epoch\": 29}, {\"loss\": 155.98226928710938, \"mae\": 11.011220932006836, \"mse\": 155.98226928710938, \"val_loss\": 215.79942321777344, \"val_mae\": 13.203330039978027, \"val_mse\": 215.79942321777344, \"epoch\": 30}, {\"loss\": 146.56182861328125, \"mae\": 10.688505172729492, \"mse\": 146.56182861328125, \"val_loss\": 201.20684814453125, \"val_mae\": 12.740877151489258, \"val_mse\": 201.20684814453125, \"epoch\": 31}, {\"loss\": 137.4307403564453, \"mae\": 10.354818344116211, \"mse\": 137.4307403564453, \"val_loss\": 187.20614624023438, \"val_mae\": 12.280837059020996, \"val_mse\": 187.20614624023438, \"epoch\": 32}, {\"loss\": 128.6573028564453, \"mae\": 10.028996467590332, \"mse\": 128.6573028564453, \"val_loss\": 173.699462890625, \"val_mae\": 11.820086479187012, \"val_mse\": 173.699462890625, \"epoch\": 33}, {\"loss\": 120.16059875488281, \"mae\": 9.698506355285645, \"mse\": 120.16059875488281, \"val_loss\": 160.76510620117188, \"val_mae\": 11.361371040344238, \"val_mse\": 160.76510620117188, \"epoch\": 34}, {\"loss\": 112.03782653808594, \"mae\": 9.365604400634766, \"mse\": 112.03782653808594, \"val_loss\": 148.48951721191406, \"val_mae\": 10.908205032348633, \"val_mse\": 148.48951721191406, \"epoch\": 35}, {\"loss\": 104.24073791503906, \"mae\": 9.043895721435547, \"mse\": 104.24073791503906, \"val_loss\": 136.70175170898438, \"val_mae\": 10.454596519470215, \"val_mse\": 136.70175170898438, \"epoch\": 36}, {\"loss\": 96.75718688964844, \"mae\": 8.72313404083252, \"mse\": 96.75718688964844, \"val_loss\": 125.39747619628906, \"val_mae\": 10.000303268432617, \"val_mse\": 125.39747619628906, \"epoch\": 37}, {\"loss\": 89.68812561035156, \"mae\": 8.395484924316406, \"mse\": 89.68812561035156, \"val_loss\": 114.82270812988281, \"val_mae\": 9.555810928344727, \"val_mse\": 114.82270812988281, \"epoch\": 38}, {\"loss\": 82.83110046386719, \"mae\": 8.078962326049805, \"mse\": 82.83110046386719, \"val_loss\": 104.69671630859375, \"val_mae\": 9.11947250366211, \"val_mse\": 104.69671630859375, \"epoch\": 39}, {\"loss\": 76.30010986328125, \"mae\": 7.762727737426758, \"mse\": 76.30010986328125, \"val_loss\": 95.0428466796875, \"val_mae\": 8.69127368927002, \"val_mse\": 95.0428466796875, \"epoch\": 40}, {\"loss\": 70.14791870117188, \"mae\": 7.442200660705566, \"mse\": 70.14791870117188, \"val_loss\": 86.01150512695312, \"val_mae\": 8.269695281982422, \"val_mse\": 86.01150512695312, \"epoch\": 41}, {\"loss\": 64.23060607910156, \"mae\": 7.134416580200195, \"mse\": 64.23060607910156, \"val_loss\": 77.41085815429688, \"val_mae\": 7.8461503982543945, \"val_mse\": 77.41085815429688, \"epoch\": 42}, {\"loss\": 58.65201187133789, \"mae\": 6.818595886230469, \"mse\": 58.65201187133789, \"val_loss\": 69.32589721679688, \"val_mae\": 7.424846649169922, \"val_mse\": 69.32589721679688, \"epoch\": 43}, {\"loss\": 53.370361328125, \"mae\": 6.502370357513428, \"mse\": 53.370361328125, \"val_loss\": 61.856170654296875, \"val_mae\": 7.011884689331055, \"val_mse\": 61.856170654296875, \"epoch\": 44}, {\"loss\": 48.44258499145508, \"mae\": 6.19486141204834, \"mse\": 48.44258499145508, \"val_loss\": 54.886329650878906, \"val_mae\": 6.601922035217285, \"val_mse\": 54.886329650878906, \"epoch\": 45}, {\"loss\": 43.80253982543945, \"mae\": 5.887117385864258, \"mse\": 43.80253982543945, \"val_loss\": 48.41718292236328, \"val_mae\": 6.195642471313477, \"val_mse\": 48.41718292236328, \"epoch\": 46}, {\"loss\": 39.454200744628906, \"mae\": 5.58842658996582, \"mse\": 39.454200744628906, \"val_loss\": 42.408905029296875, \"val_mae\": 5.791094779968262, \"val_mse\": 42.408905029296875, \"epoch\": 47}, {\"loss\": 35.42636489868164, \"mae\": 5.2846479415893555, \"mse\": 35.42636489868164, \"val_loss\": 36.938270568847656, \"val_mae\": 5.394486427307129, \"val_mse\": 36.938270568847656, \"epoch\": 48}, {\"loss\": 31.666349411010742, \"mae\": 4.988868713378906, \"mse\": 31.666349411010742, \"val_loss\": 31.923336029052734, \"val_mae\": 5.00115966796875, \"val_mse\": 31.923336029052734, \"epoch\": 49}, {\"loss\": 28.21977424621582, \"mae\": 4.702261924743652, \"mse\": 28.21977424621582, \"val_loss\": 27.395099639892578, \"val_mae\": 4.614794731140137, \"val_mse\": 27.395099639892578, \"epoch\": 50}, {\"loss\": 25.077730178833008, \"mae\": 4.418451309204102, \"mse\": 25.077730178833008, \"val_loss\": 23.34870147705078, \"val_mae\": 4.237331390380859, \"val_mse\": 23.34870147705078, \"epoch\": 51}, {\"loss\": 22.196735382080078, \"mae\": 4.145170211791992, \"mse\": 22.196735382080078, \"val_loss\": 19.74507713317871, \"val_mae\": 3.8817124366760254, \"val_mse\": 19.74507713317871, \"epoch\": 52}, {\"loss\": 19.547544479370117, \"mae\": 3.8784642219543457, \"mse\": 19.547544479370117, \"val_loss\": 16.53740692138672, \"val_mae\": 3.5299274921417236, \"val_mse\": 16.53740692138672, \"epoch\": 53}, {\"loss\": 17.182117462158203, \"mae\": 3.6130616664886475, \"mse\": 17.182117462158203, \"val_loss\": 13.74159049987793, \"val_mae\": 3.185587167739868, \"val_mse\": 13.74159049987793, \"epoch\": 54}, {\"loss\": 15.09682559967041, \"mae\": 3.344470977783203, \"mse\": 15.09682559967041, \"val_loss\": 11.388059616088867, \"val_mae\": 2.897981643676758, \"val_mse\": 11.388059616088867, \"epoch\": 55}, {\"loss\": 13.222016334533691, \"mae\": 3.093839645385742, \"mse\": 13.222016334533691, \"val_loss\": 9.395501136779785, \"val_mae\": 2.687623977661133, \"val_mse\": 9.395501136779785, \"epoch\": 56}, {\"loss\": 11.62089729309082, \"mae\": 2.8782665729522705, \"mse\": 11.62089729309082, \"val_loss\": 7.750363826751709, \"val_mae\": 2.49399471282959, \"val_mse\": 7.750363826751709, \"epoch\": 57}, {\"loss\": 10.191198348999023, \"mae\": 2.6757726669311523, \"mse\": 10.191198348999023, \"val_loss\": 6.417876720428467, \"val_mae\": 2.3063058853149414, \"val_mse\": 6.417876720428467, \"epoch\": 58}, {\"loss\": 8.98572063446045, \"mae\": 2.5046043395996094, \"mse\": 8.98572063446045, \"val_loss\": 5.3898515701293945, \"val_mae\": 2.127760410308838, \"val_mse\": 5.3898515701293945, \"epoch\": 59}, {\"loss\": 7.9758124351501465, \"mae\": 2.336030960083008, \"mse\": 7.9758124351501465, \"val_loss\": 4.627429962158203, \"val_mae\": 1.9575904607772827, \"val_mse\": 4.627429962158203, \"epoch\": 60}, {\"loss\": 7.140536308288574, \"mae\": 2.184661865234375, \"mse\": 7.140536308288574, \"val_loss\": 4.0975847244262695, \"val_mae\": 1.8255466222763062, \"val_mse\": 4.0975847244262695, \"epoch\": 61}, {\"loss\": 6.487443447113037, \"mae\": 2.044809341430664, \"mse\": 6.487443447113037, \"val_loss\": 3.789043426513672, \"val_mae\": 1.7204562425613403, \"val_mse\": 3.789043426513672, \"epoch\": 62}, {\"loss\": 5.942532539367676, \"mae\": 1.9503014087677002, \"mse\": 5.942532539367676, \"val_loss\": 3.6361472606658936, \"val_mae\": 1.6193575859069824, \"val_mse\": 3.6361472606658936, \"epoch\": 63}, {\"loss\": 5.522708892822266, \"mae\": 1.8723938465118408, \"mse\": 5.522708892822266, \"val_loss\": 3.6182727813720703, \"val_mae\": 1.5305296182632446, \"val_mse\": 3.6182727813720703, \"epoch\": 64}, {\"loss\": 5.22390604019165, \"mae\": 1.8160197734832764, \"mse\": 5.22390604019165, \"val_loss\": 3.698119878768921, \"val_mae\": 1.4655416011810303, \"val_mse\": 3.698119878768921, \"epoch\": 65}, {\"loss\": 5.007453918457031, \"mae\": 1.7778096199035645, \"mse\": 5.007453918457031, \"val_loss\": 3.837066650390625, \"val_mae\": 1.4558972120285034, \"val_mse\": 3.837066650390625, \"epoch\": 66}, {\"loss\": 4.8784966468811035, \"mae\": 1.7607675790786743, \"mse\": 4.8784966468811035, \"val_loss\": 3.9894003868103027, \"val_mae\": 1.483703851699829, \"val_mse\": 3.9894003868103027, \"epoch\": 67}, {\"loss\": 4.830351829528809, \"mae\": 1.7509868144989014, \"mse\": 4.830351829528809, \"val_loss\": 4.135860443115234, \"val_mae\": 1.5150507688522339, \"val_mse\": 4.135860443115234, \"epoch\": 68}, {\"loss\": 4.728389739990234, \"mae\": 1.7365251779556274, \"mse\": 4.728389739990234, \"val_loss\": 4.297586441040039, \"val_mae\": 1.5448962450027466, \"val_mse\": 4.297586441040039, \"epoch\": 69}, {\"loss\": 4.714279651641846, \"mae\": 1.7337714433670044, \"mse\": 4.714279651641846, \"val_loss\": 4.414336681365967, \"val_mae\": 1.5642787218093872, \"val_mse\": 4.414336681365967, \"epoch\": 70}, {\"loss\": 4.649672985076904, \"mae\": 1.724576711654663, \"mse\": 4.649672985076904, \"val_loss\": 4.567096710205078, \"val_mae\": 1.5876226425170898, \"val_mse\": 4.567096710205078, \"epoch\": 71}, {\"loss\": 4.644648551940918, \"mae\": 1.7255222797393799, \"mse\": 4.644648551940918, \"val_loss\": 4.645073890686035, \"val_mae\": 1.5987975597381592, \"val_mse\": 4.645073890686035, \"epoch\": 72}, {\"loss\": 4.702232837677002, \"mae\": 1.7417981624603271, \"mse\": 4.702232837677002, \"val_loss\": 4.647791862487793, \"val_mae\": 1.5991404056549072, \"val_mse\": 4.647791862487793, \"epoch\": 73}, {\"loss\": 4.701767444610596, \"mae\": 1.7372474670410156, \"mse\": 4.701767444610596, \"val_loss\": 4.6292266845703125, \"val_mae\": 1.5964704751968384, \"val_mse\": 4.6292266845703125, \"epoch\": 74}]}}, {\"mode\": \"vega-lite\"});\n",
       "</script>"
      ],
      "text/plain": [
       "alt.LayerChart(...)"
      ]
     },
     "execution_count": 144,
     "metadata": {},
     "output_type": "execute_result"
    }
   ],
   "source": [
    "train_error = alt.Chart(hist,height=200,width=600).mark_line().encode(alt.X('epoch'),alt.Y('mae',scale=alt.Scale(domain=[0,15],clamp=True)))\n",
    "val_error = alt.Chart(hist,height=200,width=600).mark_line(color='red').encode(alt.X('epoch'),alt.Y('val_mae',scale=alt.Scale(domain=[0,15])))\n",
    "\n",
    "train_error + val_error\n"
   ]
  },
  {
   "cell_type": "code",
   "execution_count": 145,
   "metadata": {},
   "outputs": [
    {
     "data": {
      "text/html": [
       "\n",
       "<div id=\"altair-viz-5888c28d5fa848909ba8eae1dd24f3ae\"></div>\n",
       "<script type=\"text/javascript\">\n",
       "  (function(spec, embedOpt){\n",
       "    let outputDiv = document.currentScript.previousElementSibling;\n",
       "    if (outputDiv.id !== \"altair-viz-5888c28d5fa848909ba8eae1dd24f3ae\") {\n",
       "      outputDiv = document.getElementById(\"altair-viz-5888c28d5fa848909ba8eae1dd24f3ae\");\n",
       "    }\n",
       "    const paths = {\n",
       "      \"vega\": \"https://cdn.jsdelivr.net/npm//vega@5?noext\",\n",
       "      \"vega-lib\": \"https://cdn.jsdelivr.net/npm//vega-lib?noext\",\n",
       "      \"vega-lite\": \"https://cdn.jsdelivr.net/npm//vega-lite@4.8.1?noext\",\n",
       "      \"vega-embed\": \"https://cdn.jsdelivr.net/npm//vega-embed@6?noext\",\n",
       "    };\n",
       "\n",
       "    function loadScript(lib) {\n",
       "      return new Promise(function(resolve, reject) {\n",
       "        var s = document.createElement('script');\n",
       "        s.src = paths[lib];\n",
       "        s.async = true;\n",
       "        s.onload = () => resolve(paths[lib]);\n",
       "        s.onerror = () => reject(`Error loading script: ${paths[lib]}`);\n",
       "        document.getElementsByTagName(\"head\")[0].appendChild(s);\n",
       "      });\n",
       "    }\n",
       "\n",
       "    function showError(err) {\n",
       "      outputDiv.innerHTML = `<div class=\"error\" style=\"color:red;\">${err}</div>`;\n",
       "      throw err;\n",
       "    }\n",
       "\n",
       "    function displayChart(vegaEmbed) {\n",
       "      vegaEmbed(outputDiv, spec, embedOpt)\n",
       "        .catch(err => showError(`Javascript Error: ${err.message}<br>This usually means there's a typo in your chart specification. See the javascript console for the full traceback.`));\n",
       "    }\n",
       "\n",
       "    if(typeof define === \"function\" && define.amd) {\n",
       "      requirejs.config({paths});\n",
       "      require([\"vega-embed\"], displayChart, err => showError(`Error loading script: ${err.message}`));\n",
       "    } else if (typeof vegaEmbed === \"function\") {\n",
       "      displayChart(vegaEmbed);\n",
       "    } else {\n",
       "      loadScript(\"vega\")\n",
       "        .then(() => loadScript(\"vega-lite\"))\n",
       "        .then(() => loadScript(\"vega-embed\"))\n",
       "        .catch(showError)\n",
       "        .then(() => displayChart(vegaEmbed));\n",
       "    }\n",
       "  })({\"config\": {\"view\": {\"continuousWidth\": 400, \"continuousHeight\": 300}}, \"layer\": [{\"mark\": \"line\", \"encoding\": {\"x\": {\"type\": \"quantitative\", \"field\": \"epoch\"}, \"y\": {\"type\": \"quantitative\", \"field\": \"mse\", \"scale\": {\"clamp\": true, \"domain\": [0, 15]}}}, \"height\": 200, \"width\": 600}, {\"mark\": {\"type\": \"line\", \"color\": \"red\"}, \"encoding\": {\"x\": {\"type\": \"quantitative\", \"field\": \"epoch\"}, \"y\": {\"type\": \"quantitative\", \"field\": \"val_mse\", \"scale\": {\"domain\": [0, 15]}}}, \"height\": 200, \"width\": 600}], \"data\": {\"name\": \"data-ce9f840b09291bba0f39aa8252749949\"}, \"$schema\": \"https://vega.github.io/schema/vega-lite/v4.8.1.json\", \"datasets\": {\"data-ce9f840b09291bba0f39aa8252749949\": [{\"loss\": 716.9025268554688, \"mae\": 23.17594337463379, \"mse\": 716.9025268554688, \"val_loss\": 1069.5770263671875, \"val_mae\": 29.602275848388672, \"val_mse\": 1069.5770263671875, \"epoch\": 0}, {\"loss\": 660.9896850585938, \"mae\": 22.299219131469727, \"mse\": 660.9896850585938, \"val_loss\": 1001.30517578125, \"val_mae\": 28.638198852539062, \"val_mse\": 1001.30517578125, \"epoch\": 1}, {\"loss\": 621.9986572265625, \"mae\": 21.644184112548828, \"mse\": 621.9986572265625, \"val_loss\": 946.1927490234375, \"val_mae\": 27.83560562133789, \"val_mse\": 946.1927490234375, \"epoch\": 2}, {\"loss\": 590.11767578125, \"mae\": 21.08142852783203, \"mse\": 590.11767578125, \"val_loss\": 899.122314453125, \"val_mae\": 27.13133430480957, \"val_mse\": 899.122314453125, \"epoch\": 3}, {\"loss\": 562.1293334960938, \"mae\": 20.58859634399414, \"mse\": 562.1293334960938, \"val_loss\": 856.2435913085938, \"val_mae\": 26.473491668701172, \"val_mse\": 856.2435913085938, \"epoch\": 4}, {\"loss\": 536.6380615234375, \"mae\": 20.13296127319336, \"mse\": 536.6380615234375, \"val_loss\": 816.4667358398438, \"val_mae\": 25.848281860351562, \"val_mse\": 816.4667358398438, \"epoch\": 5}, {\"loss\": 512.9146728515625, \"mae\": 19.690555572509766, \"mse\": 512.9146728515625, \"val_loss\": 779.5648193359375, \"val_mae\": 25.25442886352539, \"val_mse\": 779.5648193359375, \"epoch\": 6}, {\"loss\": 490.873046875, \"mae\": 19.261363983154297, \"mse\": 490.873046875, \"val_loss\": 744.7449340820312, \"val_mae\": 24.680980682373047, \"val_mse\": 744.7449340820312, \"epoch\": 7}, {\"loss\": 469.7520446777344, \"mae\": 18.864547729492188, \"mse\": 469.7520446777344, \"val_loss\": 711.2262573242188, \"val_mae\": 24.116100311279297, \"val_mse\": 711.2262573242188, \"epoch\": 8}, {\"loss\": 449.5404968261719, \"mae\": 18.459945678710938, \"mse\": 449.5404968261719, \"val_loss\": 679.02783203125, \"val_mae\": 23.560726165771484, \"val_mse\": 679.02783203125, \"epoch\": 9}, {\"loss\": 430.2431640625, \"mae\": 18.06031036376953, \"mse\": 430.2431640625, \"val_loss\": 648.4020385742188, \"val_mae\": 23.020050048828125, \"val_mse\": 648.4020385742188, \"epoch\": 10}, {\"loss\": 411.5478210449219, \"mae\": 17.681350708007812, \"mse\": 411.5478210449219, \"val_loss\": 618.5282592773438, \"val_mae\": 22.480133056640625, \"val_mse\": 618.5282592773438, \"epoch\": 11}, {\"loss\": 393.6763610839844, \"mae\": 17.289491653442383, \"mse\": 393.6763610839844, \"val_loss\": 590.063232421875, \"val_mae\": 21.953323364257812, \"val_mse\": 590.063232421875, \"epoch\": 12}, {\"loss\": 376.1783752441406, \"mae\": 16.91781234741211, \"mse\": 376.1783752441406, \"val_loss\": 562.2156982421875, \"val_mae\": 21.425426483154297, \"val_mse\": 562.2156982421875, \"epoch\": 13}, {\"loss\": 359.23358154296875, \"mae\": 16.543310165405273, \"mse\": 359.23358154296875, \"val_loss\": 535.0977783203125, \"val_mae\": 20.898555755615234, \"val_mse\": 535.0977783203125, \"epoch\": 14}, {\"loss\": 342.735595703125, \"mae\": 16.171255111694336, \"mse\": 342.735595703125, \"val_loss\": 508.80120849609375, \"val_mae\": 20.374645233154297, \"val_mse\": 508.80120849609375, \"epoch\": 15}, {\"loss\": 326.7216796875, \"mae\": 15.7927827835083, \"mse\": 326.7216796875, \"val_loss\": 483.43658447265625, \"val_mae\": 19.856212615966797, \"val_mse\": 483.43658447265625, \"epoch\": 16}, {\"loss\": 311.2890625, \"mae\": 15.421140670776367, \"mse\": 311.2890625, \"val_loss\": 458.8800048828125, \"val_mae\": 19.3410701751709, \"val_mse\": 458.8800048828125, \"epoch\": 17}, {\"loss\": 296.208740234375, \"mae\": 15.056642532348633, \"mse\": 296.208740234375, \"val_loss\": 434.8443298339844, \"val_mae\": 18.82321548461914, \"val_mse\": 434.8443298339844, \"epoch\": 18}, {\"loss\": 281.5145263671875, \"mae\": 14.685711860656738, \"mse\": 281.5145263671875, \"val_loss\": 411.6348876953125, \"val_mae\": 18.310338973999023, \"val_mse\": 411.6348876953125, \"epoch\": 19}, {\"loss\": 267.39581298828125, \"mae\": 14.322704315185547, \"mse\": 267.39581298828125, \"val_loss\": 390.0538635253906, \"val_mae\": 17.82180404663086, \"val_mse\": 390.0538635253906, \"epoch\": 20}, {\"loss\": 254.59814453125, \"mae\": 13.991827011108398, \"mse\": 254.59814453125, \"val_loss\": 370.1417541503906, \"val_mae\": 17.3563232421875, \"val_mse\": 370.1417541503906, \"epoch\": 21}, {\"loss\": 242.24078369140625, \"mae\": 13.654216766357422, \"mse\": 242.24078369140625, \"val_loss\": 350.91754150390625, \"val_mae\": 16.894763946533203, \"val_mse\": 350.91754150390625, \"epoch\": 22}, {\"loss\": 230.39727783203125, \"mae\": 13.320396423339844, \"mse\": 230.39727783203125, \"val_loss\": 332.20440673828125, \"val_mae\": 16.43303680419922, \"val_mse\": 332.20440673828125, \"epoch\": 23}, {\"loss\": 218.8450927734375, \"mae\": 12.994715690612793, \"mse\": 218.8450927734375, \"val_loss\": 313.9309387207031, \"val_mae\": 15.969287872314453, \"val_mse\": 313.9309387207031, \"epoch\": 24}, {\"loss\": 207.62225341796875, \"mae\": 12.657575607299805, \"mse\": 207.62225341796875, \"val_loss\": 296.34588623046875, \"val_mae\": 15.509927749633789, \"val_mse\": 296.34588623046875, \"epoch\": 25}, {\"loss\": 196.6780548095703, \"mae\": 12.333314895629883, \"mse\": 196.6780548095703, \"val_loss\": 279.1806335449219, \"val_mae\": 15.048025131225586, \"val_mse\": 279.1806335449219, \"epoch\": 26}, {\"loss\": 186.03988647460938, \"mae\": 12.003777503967285, \"mse\": 186.03988647460938, \"val_loss\": 262.5364685058594, \"val_mae\": 14.586193084716797, \"val_mse\": 262.5364685058594, \"epoch\": 27}, {\"loss\": 175.70237731933594, \"mae\": 11.668355941772461, \"mse\": 175.70237731933594, \"val_loss\": 246.4122772216797, \"val_mae\": 14.12440299987793, \"val_mse\": 246.4122772216797, \"epoch\": 28}, {\"loss\": 165.69630432128906, \"mae\": 11.340527534484863, \"mse\": 165.69630432128906, \"val_loss\": 230.85069274902344, \"val_mae\": 13.663946151733398, \"val_mse\": 230.85069274902344, \"epoch\": 29}, {\"loss\": 155.98226928710938, \"mae\": 11.011220932006836, \"mse\": 155.98226928710938, \"val_loss\": 215.79942321777344, \"val_mae\": 13.203330039978027, \"val_mse\": 215.79942321777344, \"epoch\": 30}, {\"loss\": 146.56182861328125, \"mae\": 10.688505172729492, \"mse\": 146.56182861328125, \"val_loss\": 201.20684814453125, \"val_mae\": 12.740877151489258, \"val_mse\": 201.20684814453125, \"epoch\": 31}, {\"loss\": 137.4307403564453, \"mae\": 10.354818344116211, \"mse\": 137.4307403564453, \"val_loss\": 187.20614624023438, \"val_mae\": 12.280837059020996, \"val_mse\": 187.20614624023438, \"epoch\": 32}, {\"loss\": 128.6573028564453, \"mae\": 10.028996467590332, \"mse\": 128.6573028564453, \"val_loss\": 173.699462890625, \"val_mae\": 11.820086479187012, \"val_mse\": 173.699462890625, \"epoch\": 33}, {\"loss\": 120.16059875488281, \"mae\": 9.698506355285645, \"mse\": 120.16059875488281, \"val_loss\": 160.76510620117188, \"val_mae\": 11.361371040344238, \"val_mse\": 160.76510620117188, \"epoch\": 34}, {\"loss\": 112.03782653808594, \"mae\": 9.365604400634766, \"mse\": 112.03782653808594, \"val_loss\": 148.48951721191406, \"val_mae\": 10.908205032348633, \"val_mse\": 148.48951721191406, \"epoch\": 35}, {\"loss\": 104.24073791503906, \"mae\": 9.043895721435547, \"mse\": 104.24073791503906, \"val_loss\": 136.70175170898438, \"val_mae\": 10.454596519470215, \"val_mse\": 136.70175170898438, \"epoch\": 36}, {\"loss\": 96.75718688964844, \"mae\": 8.72313404083252, \"mse\": 96.75718688964844, \"val_loss\": 125.39747619628906, \"val_mae\": 10.000303268432617, \"val_mse\": 125.39747619628906, \"epoch\": 37}, {\"loss\": 89.68812561035156, \"mae\": 8.395484924316406, \"mse\": 89.68812561035156, \"val_loss\": 114.82270812988281, \"val_mae\": 9.555810928344727, \"val_mse\": 114.82270812988281, \"epoch\": 38}, {\"loss\": 82.83110046386719, \"mae\": 8.078962326049805, \"mse\": 82.83110046386719, \"val_loss\": 104.69671630859375, \"val_mae\": 9.11947250366211, \"val_mse\": 104.69671630859375, \"epoch\": 39}, {\"loss\": 76.30010986328125, \"mae\": 7.762727737426758, \"mse\": 76.30010986328125, \"val_loss\": 95.0428466796875, \"val_mae\": 8.69127368927002, \"val_mse\": 95.0428466796875, \"epoch\": 40}, {\"loss\": 70.14791870117188, \"mae\": 7.442200660705566, \"mse\": 70.14791870117188, \"val_loss\": 86.01150512695312, \"val_mae\": 8.269695281982422, \"val_mse\": 86.01150512695312, \"epoch\": 41}, {\"loss\": 64.23060607910156, \"mae\": 7.134416580200195, \"mse\": 64.23060607910156, \"val_loss\": 77.41085815429688, \"val_mae\": 7.8461503982543945, \"val_mse\": 77.41085815429688, \"epoch\": 42}, {\"loss\": 58.65201187133789, \"mae\": 6.818595886230469, \"mse\": 58.65201187133789, \"val_loss\": 69.32589721679688, \"val_mae\": 7.424846649169922, \"val_mse\": 69.32589721679688, \"epoch\": 43}, {\"loss\": 53.370361328125, \"mae\": 6.502370357513428, \"mse\": 53.370361328125, \"val_loss\": 61.856170654296875, \"val_mae\": 7.011884689331055, \"val_mse\": 61.856170654296875, \"epoch\": 44}, {\"loss\": 48.44258499145508, \"mae\": 6.19486141204834, \"mse\": 48.44258499145508, \"val_loss\": 54.886329650878906, \"val_mae\": 6.601922035217285, \"val_mse\": 54.886329650878906, \"epoch\": 45}, {\"loss\": 43.80253982543945, \"mae\": 5.887117385864258, \"mse\": 43.80253982543945, \"val_loss\": 48.41718292236328, \"val_mae\": 6.195642471313477, \"val_mse\": 48.41718292236328, \"epoch\": 46}, {\"loss\": 39.454200744628906, \"mae\": 5.58842658996582, \"mse\": 39.454200744628906, \"val_loss\": 42.408905029296875, \"val_mae\": 5.791094779968262, \"val_mse\": 42.408905029296875, \"epoch\": 47}, {\"loss\": 35.42636489868164, \"mae\": 5.2846479415893555, \"mse\": 35.42636489868164, \"val_loss\": 36.938270568847656, \"val_mae\": 5.394486427307129, \"val_mse\": 36.938270568847656, \"epoch\": 48}, {\"loss\": 31.666349411010742, \"mae\": 4.988868713378906, \"mse\": 31.666349411010742, \"val_loss\": 31.923336029052734, \"val_mae\": 5.00115966796875, \"val_mse\": 31.923336029052734, \"epoch\": 49}, {\"loss\": 28.21977424621582, \"mae\": 4.702261924743652, \"mse\": 28.21977424621582, \"val_loss\": 27.395099639892578, \"val_mae\": 4.614794731140137, \"val_mse\": 27.395099639892578, \"epoch\": 50}, {\"loss\": 25.077730178833008, \"mae\": 4.418451309204102, \"mse\": 25.077730178833008, \"val_loss\": 23.34870147705078, \"val_mae\": 4.237331390380859, \"val_mse\": 23.34870147705078, \"epoch\": 51}, {\"loss\": 22.196735382080078, \"mae\": 4.145170211791992, \"mse\": 22.196735382080078, \"val_loss\": 19.74507713317871, \"val_mae\": 3.8817124366760254, \"val_mse\": 19.74507713317871, \"epoch\": 52}, {\"loss\": 19.547544479370117, \"mae\": 3.8784642219543457, \"mse\": 19.547544479370117, \"val_loss\": 16.53740692138672, \"val_mae\": 3.5299274921417236, \"val_mse\": 16.53740692138672, \"epoch\": 53}, {\"loss\": 17.182117462158203, \"mae\": 3.6130616664886475, \"mse\": 17.182117462158203, \"val_loss\": 13.74159049987793, \"val_mae\": 3.185587167739868, \"val_mse\": 13.74159049987793, \"epoch\": 54}, {\"loss\": 15.09682559967041, \"mae\": 3.344470977783203, \"mse\": 15.09682559967041, \"val_loss\": 11.388059616088867, \"val_mae\": 2.897981643676758, \"val_mse\": 11.388059616088867, \"epoch\": 55}, {\"loss\": 13.222016334533691, \"mae\": 3.093839645385742, \"mse\": 13.222016334533691, \"val_loss\": 9.395501136779785, \"val_mae\": 2.687623977661133, \"val_mse\": 9.395501136779785, \"epoch\": 56}, {\"loss\": 11.62089729309082, \"mae\": 2.8782665729522705, \"mse\": 11.62089729309082, \"val_loss\": 7.750363826751709, \"val_mae\": 2.49399471282959, \"val_mse\": 7.750363826751709, \"epoch\": 57}, {\"loss\": 10.191198348999023, \"mae\": 2.6757726669311523, \"mse\": 10.191198348999023, \"val_loss\": 6.417876720428467, \"val_mae\": 2.3063058853149414, \"val_mse\": 6.417876720428467, \"epoch\": 58}, {\"loss\": 8.98572063446045, \"mae\": 2.5046043395996094, \"mse\": 8.98572063446045, \"val_loss\": 5.3898515701293945, \"val_mae\": 2.127760410308838, \"val_mse\": 5.3898515701293945, \"epoch\": 59}, {\"loss\": 7.9758124351501465, \"mae\": 2.336030960083008, \"mse\": 7.9758124351501465, \"val_loss\": 4.627429962158203, \"val_mae\": 1.9575904607772827, \"val_mse\": 4.627429962158203, \"epoch\": 60}, {\"loss\": 7.140536308288574, \"mae\": 2.184661865234375, \"mse\": 7.140536308288574, \"val_loss\": 4.0975847244262695, \"val_mae\": 1.8255466222763062, \"val_mse\": 4.0975847244262695, \"epoch\": 61}, {\"loss\": 6.487443447113037, \"mae\": 2.044809341430664, \"mse\": 6.487443447113037, \"val_loss\": 3.789043426513672, \"val_mae\": 1.7204562425613403, \"val_mse\": 3.789043426513672, \"epoch\": 62}, {\"loss\": 5.942532539367676, \"mae\": 1.9503014087677002, \"mse\": 5.942532539367676, \"val_loss\": 3.6361472606658936, \"val_mae\": 1.6193575859069824, \"val_mse\": 3.6361472606658936, \"epoch\": 63}, {\"loss\": 5.522708892822266, \"mae\": 1.8723938465118408, \"mse\": 5.522708892822266, \"val_loss\": 3.6182727813720703, \"val_mae\": 1.5305296182632446, \"val_mse\": 3.6182727813720703, \"epoch\": 64}, {\"loss\": 5.22390604019165, \"mae\": 1.8160197734832764, \"mse\": 5.22390604019165, \"val_loss\": 3.698119878768921, \"val_mae\": 1.4655416011810303, \"val_mse\": 3.698119878768921, \"epoch\": 65}, {\"loss\": 5.007453918457031, \"mae\": 1.7778096199035645, \"mse\": 5.007453918457031, \"val_loss\": 3.837066650390625, \"val_mae\": 1.4558972120285034, \"val_mse\": 3.837066650390625, \"epoch\": 66}, {\"loss\": 4.8784966468811035, \"mae\": 1.7607675790786743, \"mse\": 4.8784966468811035, \"val_loss\": 3.9894003868103027, \"val_mae\": 1.483703851699829, \"val_mse\": 3.9894003868103027, \"epoch\": 67}, {\"loss\": 4.830351829528809, \"mae\": 1.7509868144989014, \"mse\": 4.830351829528809, \"val_loss\": 4.135860443115234, \"val_mae\": 1.5150507688522339, \"val_mse\": 4.135860443115234, \"epoch\": 68}, {\"loss\": 4.728389739990234, \"mae\": 1.7365251779556274, \"mse\": 4.728389739990234, \"val_loss\": 4.297586441040039, \"val_mae\": 1.5448962450027466, \"val_mse\": 4.297586441040039, \"epoch\": 69}, {\"loss\": 4.714279651641846, \"mae\": 1.7337714433670044, \"mse\": 4.714279651641846, \"val_loss\": 4.414336681365967, \"val_mae\": 1.5642787218093872, \"val_mse\": 4.414336681365967, \"epoch\": 70}, {\"loss\": 4.649672985076904, \"mae\": 1.724576711654663, \"mse\": 4.649672985076904, \"val_loss\": 4.567096710205078, \"val_mae\": 1.5876226425170898, \"val_mse\": 4.567096710205078, \"epoch\": 71}, {\"loss\": 4.644648551940918, \"mae\": 1.7255222797393799, \"mse\": 4.644648551940918, \"val_loss\": 4.645073890686035, \"val_mae\": 1.5987975597381592, \"val_mse\": 4.645073890686035, \"epoch\": 72}, {\"loss\": 4.702232837677002, \"mae\": 1.7417981624603271, \"mse\": 4.702232837677002, \"val_loss\": 4.647791862487793, \"val_mae\": 1.5991404056549072, \"val_mse\": 4.647791862487793, \"epoch\": 73}, {\"loss\": 4.701767444610596, \"mae\": 1.7372474670410156, \"mse\": 4.701767444610596, \"val_loss\": 4.6292266845703125, \"val_mae\": 1.5964704751968384, \"val_mse\": 4.6292266845703125, \"epoch\": 74}]}}, {\"mode\": \"vega-lite\"});\n",
       "</script>"
      ],
      "text/plain": [
       "alt.LayerChart(...)"
      ]
     },
     "execution_count": 145,
     "metadata": {},
     "output_type": "execute_result"
    }
   ],
   "source": [
    "train_error = alt.Chart(hist,height=200,width=600).mark_line().encode(alt.X('epoch'),alt.Y('mse',scale=alt.Scale(domain=[0,15],clamp=True)))\n",
    "val_error = alt.Chart(hist,height=200,width=600).mark_line(color='red').encode(alt.X('epoch'),alt.Y('val_mse',scale=alt.Scale(domain=[0,15])))\n",
    "\n",
    "train_error + val_error"
   ]
  },
  {
   "cell_type": "markdown",
   "metadata": {},
   "source": [
    "### Test the model"
   ]
  },
  {
   "cell_type": "code",
   "execution_count": 146,
   "metadata": {},
   "outputs": [
    {
     "name": "stdout",
     "output_type": "stream",
     "text": [
      "1/1 - 0s - loss: 2.8162 - mae: 1.2893 - mse: 2.8162\n",
      "Testing set Mean Abs Error:  1.29\n"
     ]
    }
   ],
   "source": [
    "loss, mae, mse = model.evaluate(test_dataset,test_labels, verbose=2)\n",
    "\n",
    "print('Testing set Mean Abs Error: {:5.2f}'.format(mae))"
   ]
  },
  {
   "cell_type": "markdown",
   "metadata": {},
   "source": [
    "### Prediction"
   ]
  },
  {
   "cell_type": "code",
   "execution_count": 147,
   "metadata": {},
   "outputs": [],
   "source": [
    "predictions = []\n",
    "for i in range(0,100):\n",
    "    predictions.append(model.predict([i]))\n",
    "    \n",
    "dataset['predictions'] = predictions"
   ]
  },
  {
   "cell_type": "code",
   "execution_count": 148,
   "metadata": {},
   "outputs": [
    {
     "data": {
      "text/html": [
       "\n",
       "<div id=\"altair-viz-c3a561dec54047f29d4f266411c24c4a\"></div>\n",
       "<script type=\"text/javascript\">\n",
       "  (function(spec, embedOpt){\n",
       "    let outputDiv = document.currentScript.previousElementSibling;\n",
       "    if (outputDiv.id !== \"altair-viz-c3a561dec54047f29d4f266411c24c4a\") {\n",
       "      outputDiv = document.getElementById(\"altair-viz-c3a561dec54047f29d4f266411c24c4a\");\n",
       "    }\n",
       "    const paths = {\n",
       "      \"vega\": \"https://cdn.jsdelivr.net/npm//vega@5?noext\",\n",
       "      \"vega-lib\": \"https://cdn.jsdelivr.net/npm//vega-lib?noext\",\n",
       "      \"vega-lite\": \"https://cdn.jsdelivr.net/npm//vega-lite@4.8.1?noext\",\n",
       "      \"vega-embed\": \"https://cdn.jsdelivr.net/npm//vega-embed@6?noext\",\n",
       "    };\n",
       "\n",
       "    function loadScript(lib) {\n",
       "      return new Promise(function(resolve, reject) {\n",
       "        var s = document.createElement('script');\n",
       "        s.src = paths[lib];\n",
       "        s.async = true;\n",
       "        s.onload = () => resolve(paths[lib]);\n",
       "        s.onerror = () => reject(`Error loading script: ${paths[lib]}`);\n",
       "        document.getElementsByTagName(\"head\")[0].appendChild(s);\n",
       "      });\n",
       "    }\n",
       "\n",
       "    function showError(err) {\n",
       "      outputDiv.innerHTML = `<div class=\"error\" style=\"color:red;\">${err}</div>`;\n",
       "      throw err;\n",
       "    }\n",
       "\n",
       "    function displayChart(vegaEmbed) {\n",
       "      vegaEmbed(outputDiv, spec, embedOpt)\n",
       "        .catch(err => showError(`Javascript Error: ${err.message}<br>This usually means there's a typo in your chart specification. See the javascript console for the full traceback.`));\n",
       "    }\n",
       "\n",
       "    if(typeof define === \"function\" && define.amd) {\n",
       "      requirejs.config({paths});\n",
       "      require([\"vega-embed\"], displayChart, err => showError(`Error loading script: ${err.message}`));\n",
       "    } else if (typeof vegaEmbed === \"function\") {\n",
       "      displayChart(vegaEmbed);\n",
       "    } else {\n",
       "      loadScript(\"vega\")\n",
       "        .then(() => loadScript(\"vega-lite\"))\n",
       "        .then(() => loadScript(\"vega-embed\"))\n",
       "        .catch(showError)\n",
       "        .then(() => displayChart(vegaEmbed));\n",
       "    }\n",
       "  })({\"config\": {\"view\": {\"continuousWidth\": 400, \"continuousHeight\": 300}}, \"layer\": [{\"mark\": {\"type\": \"circle\", \"size\": 60}, \"encoding\": {\"x\": {\"type\": \"quantitative\", \"field\": \"X\"}, \"y\": {\"type\": \"quantitative\", \"field\": \"y\"}}}, {\"mark\": \"line\", \"encoding\": {\"x\": {\"type\": \"quantitative\", \"field\": \"X\"}, \"y\": {\"type\": \"quantitative\", \"field\": \"predictions\"}}}], \"data\": {\"name\": \"data-d7f2f123c57cc14cfccf0e81b2bf6d58\"}, \"$schema\": \"https://vega.github.io/schema/vega-lite/v4.8.1.json\", \"datasets\": {\"data-d7f2f123c57cc14cfccf0e81b2bf6d58\": [{\"y\": 4.063173008259036, \"X\": 0.0, \"predictions\": [[0.4011791944503784]]}, {\"y\": 3.335608453847316, \"X\": 1.0101010101010102, \"predictions\": [[0.9467024207115173]]}, {\"y\": -0.6806995741215265, \"X\": 2.0202020202020203, \"predictions\": [[1.466193437576294]]}, {\"y\": 2.8983838152944705, \"X\": 3.0303030303030303, \"predictions\": [[1.9856845140457153]]}, {\"y\": 4.662873967982981, \"X\": 4.040404040404041, \"predictions\": [[2.5051753520965576]]}, {\"y\": 2.485081403814732, \"X\": 5.050505050505051, \"predictions\": [[3.0246667861938477]]}, {\"y\": 4.961326201687269, \"X\": 6.0606060606060606, \"predictions\": [[3.5441572666168213]]}, {\"y\": 5.152450586783474, \"X\": 7.070707070707071, \"predictions\": [[4.063648223876953]]}, {\"y\": 5.4489869022721065, \"X\": 8.080808080808081, \"predictions\": [[4.583139419555664]]}, {\"y\": 5.596254124268663, \"X\": 9.090909090909092, \"predictions\": [[5.102630138397217]]}, {\"y\": 7.316557430412247, \"X\": 10.101010101010102, \"predictions\": [[5.622121334075928]]}, {\"y\": 9.361630303179979, \"X\": 11.111111111111112, \"predictions\": [[6.141611576080322]]}, {\"y\": 5.530474719572535, \"X\": 12.121212121212121, \"predictions\": [[6.661103248596191]]}, {\"y\": 10.022204721621975, \"X\": 13.131313131313131, \"predictions\": [[7.180593490600586]]}, {\"y\": 8.92796733095639, \"X\": 14.141414141414142, \"predictions\": [[7.700084686279297]]}, {\"y\": 9.866032801418273, \"X\": 15.151515151515152, \"predictions\": [[8.219576835632324]]}, {\"y\": 7.207603657145993, \"X\": 16.161616161616163, \"predictions\": [[8.739067077636719]]}, {\"y\": 10.256132342755858, \"X\": 17.171717171717173, \"predictions\": [[9.25855827331543]]}, {\"y\": 13.459983094582256, \"X\": 18.181818181818183, \"predictions\": [[9.778050422668457]]}, {\"y\": 8.836349824389046, \"X\": 19.191919191919194, \"predictions\": [[10.297540664672852]]}, {\"y\": 7.545553539694288, \"X\": 20.202020202020204, \"predictions\": [[10.817030906677246]]}, {\"y\": 8.519316014262794, \"X\": 21.212121212121215, \"predictions\": [[11.336523056030273]]}, {\"y\": 13.043251439112215, \"X\": 22.222222222222225, \"predictions\": [[11.856014251708984]]}, {\"y\": 17.786096277583813, \"X\": 23.232323232323235, \"predictions\": [[12.375503540039062]]}, {\"y\": 15.768594628030968, \"X\": 24.242424242424242, \"predictions\": [[12.89499568939209]]}, {\"y\": 17.371507052878282, \"X\": 25.252525252525253, \"predictions\": [[13.4144868850708]]}, {\"y\": 14.729611562983619, \"X\": 26.262626262626263, \"predictions\": [[13.933977127075195]]}, {\"y\": 17.83235639055079, \"X\": 27.272727272727273, \"predictions\": [[14.45346736907959]]}, {\"y\": 14.99891816548258, \"X\": 28.282828282828284, \"predictions\": [[14.972959518432617]]}, {\"y\": 17.272873016183922, \"X\": 29.292929292929294, \"predictions\": [[15.492449760437012]]}, {\"y\": 16.016880774168012, \"X\": 30.303030303030305, \"predictions\": [[16.01194190979004]]}, {\"y\": 15.957947628354699, \"X\": 31.313131313131315, \"predictions\": [[16.53143310546875]]}, {\"y\": 17.827032753136063, \"X\": 32.323232323232325, \"predictions\": [[17.050922393798828]]}, {\"y\": 17.114382636811992, \"X\": 33.333333333333336, \"predictions\": [[17.570415496826172]]}, {\"y\": 21.188663333444126, \"X\": 34.343434343434346, \"predictions\": [[18.08990478515625]]}, {\"y\": 19.466794235233863, \"X\": 35.35353535353536, \"predictions\": [[18.60939598083496]]}, {\"y\": 20.382238158322878, \"X\": 36.36363636363637, \"predictions\": [[19.128887176513672]]}, {\"y\": 19.411604012697627, \"X\": 37.37373737373738, \"predictions\": [[19.64837646484375]]}, {\"y\": 23.104863719429503, \"X\": 38.38383838383839, \"predictions\": [[20.167869567871094]]}, {\"y\": 19.63303069296728, \"X\": 39.3939393939394, \"predictions\": [[20.687360763549805]]}, {\"y\": 22.92248330447283, \"X\": 40.40404040404041, \"predictions\": [[21.206851959228516]]}, {\"y\": 21.405326924190966, \"X\": 41.41414141414142, \"predictions\": [[21.726341247558594]]}, {\"y\": 20.73325449259611, \"X\": 42.42424242424243, \"predictions\": [[22.245834350585938]]}, {\"y\": 22.138497283402415, \"X\": 43.43434343434344, \"predictions\": [[22.76532554626465]]}, {\"y\": 22.013039937682315, \"X\": 44.44444444444445, \"predictions\": [[23.284814834594727]]}, {\"y\": 23.701877449851704, \"X\": 45.45454545454546, \"predictions\": [[23.804306030273438]]}, {\"y\": 23.954042740196364, \"X\": 46.46464646464647, \"predictions\": [[24.323795318603516]]}, {\"y\": 25.761713610000182, \"X\": 47.47474747474748, \"predictions\": [[24.84328842163086]]}, {\"y\": 26.772729581737494, \"X\": 48.484848484848484, \"predictions\": [[25.362777709960938]]}, {\"y\": 25.852634232020705, \"X\": 49.494949494949495, \"predictions\": [[25.88226890563965]]}, {\"y\": 26.60071457889288, \"X\": 50.505050505050505, \"predictions\": [[26.40176010131836]]}, {\"y\": 27.735764165183625, \"X\": 51.515151515151516, \"predictions\": [[26.921253204345703]]}, {\"y\": 26.58286811996086, \"X\": 52.525252525252526, \"predictions\": [[27.44074249267578]]}, {\"y\": 29.583996807529974, \"X\": 53.535353535353536, \"predictions\": [[27.960233688354492]]}, {\"y\": 30.357176749492584, \"X\": 54.54545454545455, \"predictions\": [[28.479726791381836]]}, {\"y\": 29.584939372432736, \"X\": 55.55555555555556, \"predictions\": [[28.99921417236328]]}, {\"y\": 34.47223561259735, \"X\": 56.56565656565657, \"predictions\": [[29.518707275390625]]}, {\"y\": 32.022796662899644, \"X\": 57.57575757575758, \"predictions\": [[30.03819465637207]]}, {\"y\": 30.468384350540973, \"X\": 58.58585858585859, \"predictions\": [[30.557687759399414]]}, {\"y\": 30.473618903695318, \"X\": 59.5959595959596, \"predictions\": [[31.07717514038086]]}, {\"y\": 31.23866579114212, \"X\": 60.60606060606061, \"predictions\": [[31.596668243408203]]}, {\"y\": 31.204623008891073, \"X\": 61.61616161616162, \"predictions\": [[32.11616134643555]]}, {\"y\": 34.97070161935107, \"X\": 62.62626262626263, \"predictions\": [[32.63565444946289]]}, {\"y\": 31.82256175723839, \"X\": 63.63636363636364, \"predictions\": [[33.1551399230957]]}, {\"y\": 33.560987955598435, \"X\": 64.64646464646465, \"predictions\": [[33.67463302612305]]}, {\"y\": 33.169690666283856, \"X\": 65.65656565656566, \"predictions\": [[34.19412612915039]]}, {\"y\": 36.825699046949865, \"X\": 66.66666666666667, \"predictions\": [[34.713619232177734]]}, {\"y\": 32.40127177993705, \"X\": 67.67676767676768, \"predictions\": [[35.23311233520508]]}, {\"y\": 35.01843597712306, \"X\": 68.68686868686869, \"predictions\": [[35.75259780883789]]}, {\"y\": 36.00467346616107, \"X\": 69.6969696969697, \"predictions\": [[36.27208709716797]]}, {\"y\": 37.392248195717805, \"X\": 70.70707070707071, \"predictions\": [[36.79158020019531]]}, {\"y\": 38.1803916619293, \"X\": 71.71717171717172, \"predictions\": [[37.311073303222656]]}, {\"y\": 37.33205657897532, \"X\": 72.72727272727273, \"predictions\": [[37.830562591552734]]}, {\"y\": 40.24683178368575, \"X\": 73.73737373737374, \"predictions\": [[38.35005569458008]]}, {\"y\": 39.403244931360845, \"X\": 74.74747474747475, \"predictions\": [[38.86954116821289]]}, {\"y\": 44.21408999165709, \"X\": 75.75757575757576, \"predictions\": [[39.3890380859375]]}, {\"y\": 36.767195409511956, \"X\": 76.76767676767678, \"predictions\": [[39.90852737426758]]}, {\"y\": 41.53009021490612, \"X\": 77.77777777777779, \"predictions\": [[40.428016662597656]]}, {\"y\": 38.70367431891052, \"X\": 78.7878787878788, \"predictions\": [[40.947509765625]]}, {\"y\": 39.702972263645414, \"X\": 79.7979797979798, \"predictions\": [[41.467002868652344]]}, {\"y\": 45.77420958689187, \"X\": 80.80808080808082, \"predictions\": [[41.986488342285156]]}, {\"y\": 45.798719205769515, \"X\": 81.81818181818183, \"predictions\": [[42.505977630615234]]}, {\"y\": 39.10177045291912, \"X\": 82.82828282828284, \"predictions\": [[43.02547073364258]]}, {\"y\": 42.87364452098592, \"X\": 83.83838383838385, \"predictions\": [[43.54496383666992]]}, {\"y\": 43.69254672882003, \"X\": 84.84848484848486, \"predictions\": [[44.064456939697266]]}, {\"y\": 40.065868712329724, \"X\": 85.85858585858587, \"predictions\": [[44.583946228027344]]}, {\"y\": 44.73668241166593, \"X\": 86.86868686868688, \"predictions\": [[45.10343551635742]]}, {\"y\": 46.126076373557424, \"X\": 87.87878787878789, \"predictions\": [[45.6229248046875]]}, {\"y\": 46.278974734680524, \"X\": 88.8888888888889, \"predictions\": [[46.142417907714844]]}, {\"y\": 42.360707410012836, \"X\": 89.89898989898991, \"predictions\": [[46.66191101074219]]}, {\"y\": 49.06996192411076, \"X\": 90.90909090909092, \"predictions\": [[47.181400299072266]]}, {\"y\": 47.84868391289194, \"X\": 91.91919191919193, \"predictions\": [[47.70088577270508]]}, {\"y\": 47.74082240566166, \"X\": 92.92929292929294, \"predictions\": [[48.22037887573242]]}, {\"y\": 46.86191104820158, \"X\": 93.93939393939395, \"predictions\": [[48.739871978759766]]}, {\"y\": 50.298665507787156, \"X\": 94.94949494949496, \"predictions\": [[49.259368896484375]]}, {\"y\": 51.216336282756814, \"X\": 95.95959595959597, \"predictions\": [[49.77885055541992]]}, {\"y\": 48.92066220717753, \"X\": 96.96969696969697, \"predictions\": [[50.29834747314453]]}, {\"y\": 50.56907421507802, \"X\": 97.97979797979798, \"predictions\": [[50.817832946777344]]}, {\"y\": 52.548946740274026, \"X\": 98.98989898989899, \"predictions\": [[51.33732604980469]]}, {\"y\": 47.490975759996985, \"X\": 100.0, \"predictions\": [[51.856815338134766]]}]}}, {\"mode\": \"vega-lite\"});\n",
       "</script>"
      ],
      "text/plain": [
       "alt.LayerChart(...)"
      ]
     },
     "execution_count": 148,
     "metadata": {},
     "output_type": "execute_result"
    }
   ],
   "source": [
    "base = alt.Chart(dataset).mark_circle(size=60).encode(alt.X('X:Q'),alt.Y('y:Q'))\n",
    "\n",
    "line = alt.Chart(dataset).mark_line().encode(alt.X('X:Q'),alt.Y('predictions:Q'))\n",
    "\n",
    "\n",
    "base +line"
   ]
  },
  {
   "cell_type": "markdown",
   "metadata": {},
   "source": [
    "## Tensorboard\n"
   ]
  },
  {
   "cell_type": "code",
   "execution_count": null,
   "metadata": {},
   "outputs": [],
   "source": []
  }
 ],
 "metadata": {
  "kernelspec": {
   "display_name": "Python (spinningup)",
   "language": "python",
   "name": "spinningup"
  },
  "language_info": {
   "codemirror_mode": {
    "name": "ipython",
    "version": 3
   },
   "file_extension": ".py",
   "mimetype": "text/x-python",
   "name": "python",
   "nbconvert_exporter": "python",
   "pygments_lexer": "ipython3",
   "version": "3.6.12"
  }
 },
 "nbformat": 4,
 "nbformat_minor": 4
}
