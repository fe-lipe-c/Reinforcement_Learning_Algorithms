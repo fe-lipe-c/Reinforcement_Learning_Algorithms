{
 "cells": [
  {
   "cell_type": "markdown",
   "metadata": {},
   "source": [
    "# CHAPTER 5\n",
    "## Deep Q-Network"
   ]
  },
  {
   "cell_type": "code",
   "execution_count": 1,
   "metadata": {},
   "outputs": [],
   "source": [
    "import gym\n",
    "import random\n",
    "import time\n",
    "\n",
    "import atari_wrappers as atari"
   ]
  },
  {
   "cell_type": "code",
   "execution_count": null,
   "metadata": {},
   "outputs": [],
   "source": []
  },
  {
   "cell_type": "code",
   "execution_count": null,
   "metadata": {},
   "outputs": [],
   "source": [
    "def make_env(env_name, fire=True, frames_num=2, noop_num=30, skip_frames=True):\n",
    "    \n",
    "    env = gym.make(env_name)\n",
    "    \n",
    "    if skip_frames:\n",
    "        env = atari.MaxAndSkipEnv(env) ## Return only every skip-th frame\n",
    "        \n",
    "    if fire:\n",
    "        env = atari.FireResetEnv(env) ## Fire at the beggining\n",
    "        \n",
    "    env = atari.NoopResetEnv(env,noop_max=noop_num)\n",
    "    env = atari.WarpFrame(env) ## Reshape image\n",
    "    env = atari.FrameStack(env, frames_num) ## Stack last 4 frames\n",
    "    \n",
    "    return env"
   ]
  }
 ],
 "metadata": {
  "kernelspec": {
   "display_name": "Python (spinningup)",
   "language": "python",
   "name": "spinningup"
  },
  "language_info": {
   "codemirror_mode": {
    "name": "ipython",
    "version": 3
   },
   "file_extension": ".py",
   "mimetype": "text/x-python",
   "name": "python",
   "nbconvert_exporter": "python",
   "pygments_lexer": "ipython3",
   "version": "3.6.12"
  }
 },
 "nbformat": 4,
 "nbformat_minor": 4
}
